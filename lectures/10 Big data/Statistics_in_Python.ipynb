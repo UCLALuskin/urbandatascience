{
 "cells": [
  {
   "cell_type": "markdown",
   "id": "899fbe84-43c1-49f9-a7ab-295c76551c2b",
   "metadata": {},
   "source": [
    "## Stats in Python\n",
    "Some brief notes and examples on how to do statistical analysis in Python.\n",
    "\n",
    "We saw a bit of this in the machine learning module, comparing logistic regression to random forests. Some of the statistical functions are built into `scikit-learn`. But `statsmodels` has more features.\n",
    "\n",
    "Why use `statsmodels`?\n",
    "- it integrates nicely with `pandas`, so if you have data wrangling code and are joining together lots of datasets, `statsmodels` can simplify your analysis workflow\n",
    "- if you are familiar with R, the syntax is almost identical. [See examples here](https://www.statsmodels.org/stable/index.html).\n",
    "- the geospatial functionality is much better in Python than in R, and so any GIS+regression analysis might be better off in Python.\n",
    "\n",
    "Why use R or Stata instead?\n",
    "- maybe you or your collaborators are more proficient in R (or Stata)\n",
    "- you are using more advanced statistical models that are not supported in Python (or would require a lot of custom matrix algebra) - especially true for causal inference, clustered standard errors, and Bayesian analysis, but that is changing fast\n",
    "- R and Stata have more advanced postestimation commands (e.g. marginal effects)\n",
    "- there are more online examples for R and Stata\n",
    "\n",
    "In these cases, you can still use Python for data wrangling, web scraping, etc. But you then save a `.csv` file that you load in to R. \n",
    "\n",
    "You can also call R functions from Python! Check out `rpy2`: https://rpy2.github.io\n",
    "\n",
    "TL;DR: for most projects, it won't make a difference - do whatever is easier."
   ]
  },
  {
   "cell_type": "markdown",
   "id": "2c051af0-b621-4f99-bd1a-29b9395a54a8",
   "metadata": {},
   "source": [
    "Let's redo the example from Class 6 (ADUs). This first part of the code we've seen before"
   ]
  },
  {
   "cell_type": "code",
   "execution_count": null,
   "id": "6739f3fc-720c-4fcb-90f3-f30c5e8932e6",
   "metadata": {},
   "outputs": [],
   "source": [
    "import pandas as pd\n",
    "import geopandas as gpd\n",
    "\n",
    "parcels = pd.read_pickle('../Lectures/scratch/joined_permits.pandas')\n",
    "\n",
    "# convert to a geodataframe. Same code as from video lecture\n",
    "parcels = gpd.GeoDataFrame(parcels, \n",
    "                    geometry = gpd.points_from_xy(\n",
    "                        parcels.CENTER_LON, \n",
    "                        parcels.CENTER_LAT, crs='EPSG:4326'))\n",
    "enviroscreen = gpd.read_file('../Lectures/data/CalEnviroScreen/CES4 Final Shapefile.shp')\n",
    "gdf = gpd.sjoin(parcels, enviroscreen.to_crs('EPSG:4326'), how='left', predicate='intersects')"
   ]
  },
  {
   "cell_type": "markdown",
   "id": "812b46c1-3ec0-4820-ab93-45d5b4686ca5",
   "metadata": {},
   "source": [
    "Now let's run a regression."
   ]
  },
  {
   "cell_type": "code",
   "execution_count": null,
   "id": "30ce7744-9488-4cf1-8441-d27017f35061",
   "metadata": {},
   "outputs": [],
   "source": [
    "import statsmodels.formula.api as smf\n",
    "gdf['hasADU'] = gdf.hasADU.astype(int)  # statsmodels can't deal with boolean variables\n",
    "xvars = ['YearBuilt1', 'Units1', 'Bedrooms1','SQFTmain1', 'Roll_LandValue', 'Roll_ImpValue']\n",
    "yvar = 'hasADU'\n",
    "\n",
    "# create a dataframe with no NaNs\n",
    "df_to_fit = gdf[xvars+[yvar]].dropna()\n",
    "\n",
    "# follow the example in the docs. Looks like R!\n",
    "formula = 'y ~ YearBuilt1 + Units1 + Bedrooms1 + SQFTmain1 + Roll_LandValue'\n",
    "results = smf.ols(formula, data=df_to_fit).fit()\n",
    "\n",
    "print(results.summary())"
   ]
  },
  {
   "cell_type": "code",
   "execution_count": null,
   "id": "5e676a2c-a73f-4a85-a426-66b1aa108266",
   "metadata": {},
   "outputs": [],
   "source": [
    "# we can also do a logistic regression\n",
    "# which is more appropriate for our variable\n",
    "formula = 'y ~ YearBuilt1 + Units1 + Bedrooms1 + SQFTmain1 + Roll_LandValue'\n",
    "results = smf.logit(formula, data=df_to_fit).fit()\n",
    "\n",
    "print(results.summary())"
   ]
  },
  {
   "cell_type": "markdown",
   "id": "6d740010-4dfc-4b7e-8413-69cf3e524738",
   "metadata": {},
   "source": [
    "What do I do?\n",
    "- I do most simple models in Python, but that's because I find R syntax annoying\n",
    "- Descriptive plots and analysis are always in Python\n",
    "- For most statistical analysis, I use Stata, but I normally prepare a clean dataset in Python so there isn't much Stata code\n",
    "- For some specialist models (e.g. Bayesian hierarchical regression), I use Python (e.g. `cmdstanpy`)\n",
    "- I use R if a collaborator prefers that, but then I make them do all the coding...\n",
    "- Sometimes, a collaborator and I do the work independently in Python and R, as a way to catch errors"
   ]
  }
 ],
 "metadata": {
  "kernelspec": {
   "display_name": "Python 3 (ipykernel)",
   "language": "python",
   "name": "python3"
  },
  "language_info": {
   "codemirror_mode": {
    "name": "ipython",
    "version": 3
   },
   "file_extension": ".py",
   "mimetype": "text/x-python",
   "name": "python",
   "nbconvert_exporter": "python",
   "pygments_lexer": "ipython3",
   "version": "3.12.9"
  }
 },
 "nbformat": 4,
 "nbformat_minor": 5
}
