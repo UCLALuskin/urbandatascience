{
 "cells": [
  {
   "cell_type": "markdown",
   "id": "coated-diving",
   "metadata": {},
   "source": [
    "# The Socrata API"
   ]
  },
  {
   "cell_type": "markdown",
   "id": "familiar-professor",
   "metadata": {},
   "source": [
    "## Lecture objectives\n",
    "\n",
    "1. Demonstrate the Socrata API\n",
    "2. Provide more practice with `pandas`, `geopandas`, and plotting"
   ]
  },
  {
   "cell_type": "markdown",
   "id": "copyrighted-yahoo",
   "metadata": {},
   "source": [
    "### Socrata\n",
    "Many cities, other government agencies, and nonprofit organizations make their data available through the Socrata API. The City of Los Angeles is one user. [You can browse the city's datasets here](https://data.lacity.org).\n",
    "\n",
    "Just like the census, you can call Socrata APIs with `requests`, but there is also a dedicated package, `sodapy`.\n",
    "\n",
    "[Look at the housing dataset here](https://data.lacity.org/Housing-and-Real-Estate/HCIDLA-Affordable-Housing-Projects-List-2003-to-Pr/mymu-zi3s). Click on the API button in the top right corner. You can see much useful information:\n",
    "\n",
    "* The URL (the API endpoint)\n",
    "* The format (JSON is the default)\n",
    "* Some helpful links\n",
    "\n",
    "Let's copy and paste the API endpoint, and use `requests`. "
   ]
  },
  {
   "cell_type": "code",
   "execution_count": null,
   "id": "equivalent-destiny",
   "metadata": {},
   "outputs": [],
   "source": [
    "import requests\n",
    "import pandas as pd\n",
    "import json\n",
    "\n",
    "url = 'https://data.lacity.org/resource/mymu-zi3s.json'\n",
    "r = requests.get(url)\n",
    "df = pd.DataFrame(json.loads(r.text))\n",
    "df.head()"
   ]
  },
  {
   "cell_type": "markdown",
   "id": "latter-timing",
   "metadata": {},
   "source": [
    "We might have expected some geographic coordinates, and it looks like they are in the `geocoded_column` column.\n",
    "\n",
    "We converted it to a regular `pandas` DataFrame, which doesn't understand spatial relationships. So how do we make the geometries readily available?\n",
    "\n",
    "Looking back at the [webpage](https://data.lacity.org/Housing-and-Real-Estate/HCIDLA-Affordable-Housing-Projects-List-2003-to-Pr/mymu-zi3s), the API also gives us a `geojson` option. How do we make use of this? Fortunately, the `geopandas.read_file()` function can read in the URL directly, without going through `requests`.\n",
    "\n",
    "Let's read the dataset into a `geoDataFrame` and call it `gdf`. Note that it gives us a `geometry` column with point locations."
   ]
  },
  {
   "cell_type": "code",
   "execution_count": null,
   "id": "manual-polyester",
   "metadata": {},
   "outputs": [],
   "source": [
    "import geopandas as gpd\n",
    "url = 'https://data.lacity.org/resource/mymu-zi3s.geojson'\n",
    "gdf = gpd.read_file(url)\n",
    "gdf.head()"
   ]
  },
  {
   "cell_type": "markdown",
   "id": "f1e53321",
   "metadata": {},
   "source": [
    "We can check to see what projection it is in using the `crs` attribute. Then, we can plot the data."
   ]
  },
  {
   "cell_type": "code",
   "execution_count": null,
   "id": "c72874b1",
   "metadata": {},
   "outputs": [],
   "source": [
    "gdf.crs"
   ]
  },
  {
   "cell_type": "code",
   "execution_count": null,
   "id": "laughing-evolution",
   "metadata": {},
   "outputs": [],
   "source": [
    "import matplotlib.pyplot as plt\n",
    "\n",
    "fig, ax = plt.subplots()\n",
    "gdf.plot(ax=ax)"
   ]
  },
  {
   "cell_type": "markdown",
   "id": "israeli-beijing",
   "metadata": {
    "tags": []
   },
   "source": [
    "Before we clean up the map, let's mention two other ways to read that data in, rather than using the Socrata API.\n",
    "\n",
    "#### Sodapy\n",
    "\n",
    "We won't cover the [`sodapy` library](https://pypi.org/project/sodapy/) here, but it can be simpler for some types of dataset. Note that it is no longer maintained as of August 2022.\n",
    "\n",
    "#### Save to disk\n",
    "You can always point and click on the webpage, download the file to your computer, and load it in.\n",
    "\n",
    "Socrata gives you [various options for the format for this file](https://data.lacity.org/Housing-and-Real-Estate/HCIDLA-Affordable-Housing-Projects-List-2003-to-Pr/mymu-zi3s): `csv`, `shp`, and so on. Let's use the shapefile version.\n",
    "\n",
    "Download the file; you will probably need to unzip it and change the filename in the next cell."
   ]
  },
  {
   "cell_type": "code",
   "execution_count": null,
   "id": "suburban-inquiry",
   "metadata": {},
   "outputs": [],
   "source": [
    "# change this to whereever you download files on your computer\n",
    "download_path = '/Users/adammb/Downloads/'\n",
    "# change this to the name of the directory that you downloaded\n",
    "lahd = 'LAHD Affordable Housing Projects List (2003 to Present)_20250328'\n",
    "gpd.read_file(download_path+lahd)"
   ]
  },
  {
   "cell_type": "markdown",
   "id": "funded-rogers",
   "metadata": {},
   "source": [
    "Now let's clean up the map. First, note that we can call `gdf.plot()` directly, but we have more flexibility if we create our own figure and axis object using `plt.subplots()`.\n",
    "\n",
    "Let's also plot the data in a particular column, perhaps `site_units`, as a proportional circle.\n",
    "\n",
    "And finally, let's use `contextily` to provide a basemap."
   ]
  },
  {
   "cell_type": "code",
   "execution_count": null,
   "id": "informative-worth",
   "metadata": {},
   "outputs": [],
   "source": [
    "import matplotlib.pyplot as plt\n",
    "import contextily as ctx\n",
    "# If we try to plot site_units, we get an error due to the zero-unit entries. Let's solve that first.\n",
    "gdf['site_units'] = gdf.site_units.astype(int)  # convert to integer\n",
    "\n",
    "fig, ax = plt.subplots(figsize=(10,10))\n",
    "\n",
    "# basemaps are typically in Web Mercator (projection 3857)\n",
    "# so we need to reproject our dataframe to this\n",
    "gdf[gdf.site_units>0].to_crs('EPSG:3857').plot(markersize='site_units', ax=ax)\n",
    "\n",
    "# let's add a basemap using the contextily library. The zoom was trial and error\n",
    "ctx.add_basemap(ax, zoom=12)\n",
    "\n",
    "# and we really don't need the axis ticks and labels, so we set them to an empty list\n",
    "# take a look and see what happens when you comment out these lines\n",
    "ax.set_xticks([])\n",
    "ax.set_yticks([])"
   ]
  },
  {
   "cell_type": "markdown",
   "id": "excellent-spank",
   "metadata": {},
   "source": [
    "<div class=\"alert alert-block alert-info\">\n",
    "<h3>Key Takeaways</h3>\n",
    "<ul>\n",
    "  <li>Government open data sites often use Socrata.</li>\n",
    "  <li>The data format is usually well documented, and there are several options to import it to Python.</li>\n",
    "  <li>When importing geospatial data, pay attention to the projection.</li>\n",
    "</ul>\n",
    "</div>"
   ]
  }
 ],
 "metadata": {
  "kernelspec": {
   "display_name": "Python 3 (ipykernel)",
   "language": "python",
   "name": "python3"
  },
  "language_info": {
   "codemirror_mode": {
    "name": "ipython",
    "version": 3
   },
   "file_extension": ".py",
   "mimetype": "text/x-python",
   "name": "python",
   "nbconvert_exporter": "python",
   "pygments_lexer": "ipython3",
   "version": "3.12.3"
  }
 },
 "nbformat": 4,
 "nbformat_minor": 5
}
