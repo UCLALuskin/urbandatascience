{
 "cells": [
  {
   "cell_type": "markdown",
   "id": "coated-diving",
   "metadata": {
    "slideshow": {
     "slide_type": "slide"
    }
   },
   "source": [
    "# Module 1. Application programming interfaces: APIs\n",
    "# The BART API"
   ]
  },
  {
   "cell_type": "markdown",
   "id": "familiar-professor",
   "metadata": {
    "slideshow": {
     "slide_type": "fragment"
    },
    "tags": []
   },
   "source": [
    "## Lecture objectives\n",
    "\n",
    "1. Demonstrate different ways to access data via an API\n",
    "2. Introduce the `requests` library \n",
    "3. Show how to parse JSON data"
   ]
  },
  {
   "cell_type": "markdown",
   "id": "lesbian-infection",
   "metadata": {
    "slideshow": {
     "slide_type": "fragment"
    }
   },
   "source": [
    "One way to get data is to download it manually from a website. You might click through a series of links and then save a `.csv` or similar file to your hard drive.\n",
    "\n",
    "Another way is through an Application Programming Interface (API). These APIs make it possible to request just the data that you are interested in. Sometimes, this data is static—it will be the same each time you request it. The U.S. Census is a good example. Other APIs are dynamic—for example, bus and train arrival times."
   ]
  },
  {
   "cell_type": "markdown",
   "id": "parallel-stephen",
   "metadata": {
    "slideshow": {
     "slide_type": "slide"
    }
   },
   "source": [
    "## Example: BART\n",
    "Many APIs return a format known as JSON. While it seems complicated, it's relatively easy to work with because it's highly structured.\n",
    "\n",
    "BART provides its [API documentation here](https://api.bart.gov/docs/overview/index.aspx).\n",
    "\n",
    "How do we get data from the API into Python? The `requests` library is the key to unlocking many interactions with the web.\n",
    "\n",
    "Let's get the real-time departures from 12th St Oakland City Center station. According to the [documentation](https://api.bart.gov/docs/etd/etd.aspx), we need to pass `orig=12TH`. We can also pass `json=y` to return the results in JSON format.\n",
    "\n",
    "Most APIs, including that of BART, require a \"key\" that identifies you to the developer. For serious usage, you'd request your own key. But for experimentation, BART provides a key that anyone can use. \n",
    "\n",
    "So how do we construct the request? We simply build a string that contains all of these commands, following the example in the documentation. Then we pass that string to `requests.get()`."
   ]
  },
  {
   "cell_type": "markdown",
   "id": "f543c857-3864-49c5-a202-b14ca6eae1e2",
   "metadata": {},
   "source": [
    "### Update\n",
    "BART used to post an API key on its website for anyone to use. That's what you see on the lecture videos. Now, you need to register for your own key.\n",
    "\n",
    "You can do that [here](https://api.bart.gov/api/register.aspx). It takes a few minutes for your key to arrive by email, but might take an hour before it is activated."
   ]
  },
  {
   "cell_type": "code",
   "execution_count": null,
   "id": "color-keeping",
   "metadata": {
    "slideshow": {
     "slide_type": "fragment"
    }
   },
   "outputs": [],
   "source": [
    "import requests\n",
    "\n",
    "APIkey = 'XXXX'  # replace XXXX with the key you received by email\n",
    "requestString = 'http://api.bart.gov/api/etd.aspx?cmd=etd&orig=12TH&json=y&key='+APIkey\n",
    "\n",
    "r = requests.get(requestString)"
   ]
  },
  {
   "cell_type": "markdown",
   "id": "manual-driving",
   "metadata": {
    "slideshow": {
     "slide_type": "fragment"
    }
   },
   "source": [
    "Here, we've made a request to the BART API, and stored the response in the `r` object. \n",
    "\n",
    "Let's see what the `r` object includes. Use `r.` and the `tab` autocomplete in Jupyter Notebook to see the different attributes. Or you can call the help function."
   ]
  },
  {
   "cell_type": "code",
   "execution_count": null,
   "id": "f4973bf6",
   "metadata": {},
   "outputs": [],
   "source": [
    "help(r)"
   ]
  },
  {
   "cell_type": "markdown",
   "id": "875801a5",
   "metadata": {},
   "source": [
    "One attribute is `ok`: did the request succeed? If it didn't, your API key might not be activated yet."
   ]
  },
  {
   "cell_type": "code",
   "execution_count": null,
   "id": "unexpected-sensitivity",
   "metadata": {},
   "outputs": [],
   "source": [
    "print(r.ok)"
   ]
  },
  {
   "cell_type": "markdown",
   "id": "0583cb59",
   "metadata": {},
   "source": [
    "The `text` attribute shows the text that was returned."
   ]
  },
  {
   "cell_type": "code",
   "execution_count": null,
   "id": "equivalent-southwest",
   "metadata": {},
   "outputs": [],
   "source": [
    "print(r.text)"
   ]
  },
  {
   "cell_type": "markdown",
   "id": "coupled-trick",
   "metadata": {},
   "source": [
    "This looks promising. But how can we get this into a more usable form? The `json` module is the key. It's built-in to Python so you don't have to install anything."
   ]
  },
  {
   "cell_type": "code",
   "execution_count": null,
   "id": "atmospheric-smith",
   "metadata": {},
   "outputs": [],
   "source": [
    "import json"
   ]
  },
  {
   "cell_type": "code",
   "execution_count": null,
   "id": "superior-seventh",
   "metadata": {},
   "outputs": [],
   "source": [
    "# json.loads() will turn the JSON object into a dictionary\n",
    "d = json.loads(r.text)\n",
    "print(type(d))"
   ]
  },
  {
   "cell_type": "markdown",
   "id": "bf0e430a",
   "metadata": {},
   "source": [
    "<div class=\"alert alert-block alert-info\">\n",
    "<strong>Exercise:</strong> How can you access the relevant contents of the dictionary? Hint: First, look at the keys.\n",
    "</div>"
   ]
  },
  {
   "cell_type": "code",
   "execution_count": null,
   "id": "spiritual-pursuit",
   "metadata": {},
   "outputs": [],
   "source": [
    "# remember, a dictionary is a collection of keys and values\n",
    "# here looks like there are two keys, called ?xml and root\n",
    "# let's look at the root item\n",
    "print(d.keys())\n",
    "print(d['root'])"
   ]
  },
  {
   "cell_type": "code",
   "execution_count": null,
   "id": "indoor-refund",
   "metadata": {},
   "outputs": [],
   "source": [
    "# and in turn, 'root' is another dictionary. You could also have seen this because of the curly brackets { }  \n",
    "print((d['root'].keys()))"
   ]
  },
  {
   "cell_type": "markdown",
   "id": "protective-couple",
   "metadata": {},
   "source": [
    "The \"station\" item seems to hold most of the useful information. \n",
    "\n",
    "It's a list."
   ]
  },
  {
   "cell_type": "code",
   "execution_count": null,
   "id": "ca4be59b",
   "metadata": {},
   "outputs": [],
   "source": [
    "print(type((d['root']['station'])))"
   ]
  },
  {
   "cell_type": "markdown",
   "id": "2efa96c3",
   "metadata": {},
   "source": [
    "Of length 1"
   ]
  },
  {
   "cell_type": "code",
   "execution_count": null,
   "id": "67f306ab",
   "metadata": {},
   "outputs": [],
   "source": [
    "print(len(d['root']['station']))"
   ]
  },
  {
   "cell_type": "code",
   "execution_count": null,
   "id": "d96377b5",
   "metadata": {},
   "outputs": [],
   "source": [
    "print(d['root']['station'][0])"
   ]
  },
  {
   "cell_type": "markdown",
   "id": "b8738169",
   "metadata": {},
   "source": [
    "And this is another dictionary! (You can tell by the curly brackets).\n",
    "\n",
    "Most of the information appears to be in `etd`, which is another list. "
   ]
  },
  {
   "cell_type": "code",
   "execution_count": null,
   "id": "aa7113cb",
   "metadata": {},
   "outputs": [],
   "source": [
    "print(d['root']['station'][0]['etd'])"
   ]
  },
  {
   "cell_type": "markdown",
   "id": "6fcd26ff",
   "metadata": {},
   "source": [
    "Each element of the list appears to be a dictionary, giving details of trains to a particular destination. Let's simplify things by pulling this list out to a separate variable.\n",
    "\n",
    "The `destination` item is self explanatory. The `estimate` item is yet another list!"
   ]
  },
  {
   "cell_type": "code",
   "execution_count": null,
   "id": "5cfeb00c",
   "metadata": {},
   "outputs": [],
   "source": [
    "etd = d['root']['station'][0]['etd']\n",
    "\n",
    "print(etd[0]['destination'])\n",
    "print(etd[0]['estimate'])\n",
    "\n",
    "print(etd[1]['destination'])\n",
    "print(etd[1]['estimate'])"
   ]
  },
  {
   "cell_type": "markdown",
   "id": "c32655fc",
   "metadata": {},
   "source": [
    "We can print this more nicely using the `.format()` method for a string. The curly braces `{}` are placeholders for the items to be inserted."
   ]
  },
  {
   "cell_type": "code",
   "execution_count": null,
   "id": "raised-jimmy",
   "metadata": {},
   "outputs": [],
   "source": [
    "print('Train to {} is arriving in {} minutes'.format(etd[0]['destination'], etd[0]['estimate'][0]['minutes']))"
   ]
  },
  {
   "cell_type": "markdown",
   "id": "a556701f",
   "metadata": {},
   "source": [
    "To make this easier to work with, we can convert to a pandas `DataFrame`. This doesn't always work, but is worth a try."
   ]
  },
  {
   "cell_type": "code",
   "execution_count": null,
   "id": "offshore-crown",
   "metadata": {},
   "outputs": [],
   "source": [
    "import pandas as pd\n",
    "df = pd.DataFrame(etd[0]['estimate'])\n",
    "df"
   ]
  },
  {
   "cell_type": "markdown",
   "id": "78e514ad",
   "metadata": {},
   "source": [
    "Note that this gave us only the trains to the first destination (contained in `etd[0]`). We'd have to loop over `etd` to get the other destinations.\n",
    "\n",
    "Here, we use `display` rather than `print` to format the output more nicely. [Here's an explanation](https://stackoverflow.com/questions/26873127/show-dataframe-as-table-in-ipython-notebook)."
   ]
  },
  {
   "cell_type": "code",
   "execution_count": null,
   "id": "609752ef",
   "metadata": {},
   "outputs": [],
   "source": [
    "from IPython.display import display\n",
    "for e in etd:\n",
    "    print('\\nTrains to {}'.format(e['destination']))\n",
    "    display(pd.DataFrame(e['estimate']))"
   ]
  },
  {
   "cell_type": "markdown",
   "id": "404428ed",
   "metadata": {},
   "source": [
    "<div class=\"alert alert-block alert-info\">\n",
    "<strong>Exercise:</strong> How would you calculate the mean headway (time between trains)?\n",
    "</div>"
   ]
  },
  {
   "cell_type": "markdown",
   "id": "0e530588",
   "metadata": {},
   "source": [
    "<div class=\"alert alert-block alert-info\">\n",
    "<strong>Let's recap.</strong> What did we just do?\n",
    "<ul>  \n",
    "<li>We constructed a text string following the API documentation, and passed that string to `requests`</li>\n",
    "<li>We did some step-by-step detective work to convert the output into a usable format</li>\n",
    "</uli>\n",
    "</div>"
   ]
  },
  {
   "cell_type": "markdown",
   "id": "3ea68948",
   "metadata": {},
   "source": [
    "Let's focus on the first step, and try more commands from the BART API, [such as returning fare information](https://api.bart.gov/docs/sched/fare.aspx).\n",
    "\n",
    "We see that the string begins like this:\n",
    "\n",
    "`http://api.bart.gov/api/sched.aspx?cmd=fare`\n",
    "\n",
    "Then we add the various inputs separated by `&`.\n",
    "\n",
    "For example, the fare from `12TH` to `CIVC` is as follows."
   ]
  },
  {
   "cell_type": "code",
   "execution_count": null,
   "id": "4d7e032a",
   "metadata": {},
   "outputs": [],
   "source": [
    "requestString = 'http://api.bart.gov/api/sched.aspx?&cmd=fare&orig=12TH&dest=CIVC&key={}&json=y'.format(APIkey)\n",
    "r = requests.get(requestString)\n",
    "print(r.text)"
   ]
  },
  {
   "cell_type": "markdown",
   "id": "e96831ea",
   "metadata": {},
   "source": [
    "Note that the output is the same as if you paste the string into a web browser."
   ]
  },
  {
   "cell_type": "code",
   "execution_count": null,
   "id": "4618a417",
   "metadata": {},
   "outputs": [],
   "source": [
    "print(requestString)"
   ]
  },
  {
   "cell_type": "markdown",
   "id": "be878b25",
   "metadata": {},
   "source": [
    "An alternative and more elegant way of calling requests is to put all the inputs (parameters) into a dictionary. This version is identical to the previous API call."
   ]
  },
  {
   "cell_type": "code",
   "execution_count": null,
   "id": "1ef2ba70",
   "metadata": {},
   "outputs": [],
   "source": [
    "requestString = 'http://api.bart.gov/api/sched.aspx'\n",
    "params = {'cmd':'fare',\n",
    "          'orig':'12TH',\n",
    "          'dest':'CIVC',\n",
    "          'key':APIkey,\n",
    "          'json':'y'}\n",
    "r = requests.get(requestString, params=params)\n",
    "print(r.text)"
   ]
  },
  {
   "cell_type": "markdown",
   "id": "9c523b6e",
   "metadata": {},
   "source": [
    "<div class=\"alert alert-block alert-info\">\n",
    "<strong>Exercise:</strong> Explore some of BART's other API collections at the same link above\n",
    "</div>"
   ]
  },
  {
   "cell_type": "markdown",
   "id": "excellent-spank",
   "metadata": {},
   "source": [
    "<div class=\"alert alert-block alert-info\">\n",
    "<h3>Key Takeaways</h3>\n",
    "<ul>\n",
    "  <li>Many APIs are just URLs. You can compose the URL as a string.</li>\n",
    "  <li>JSON is the typical format of the returned data, but you will often need to experiment.</li>\n",
    "  <li>Be nice! Some APIs will ask you to register. Most will kick you off if you make too many requests.</li>\n",
    "</ul>\n",
    "</div>"
   ]
  }
 ],
 "metadata": {
  "kernelspec": {
   "display_name": "Python 3 (ipykernel)",
   "language": "python",
   "name": "python3"
  },
  "language_info": {
   "codemirror_mode": {
    "name": "ipython",
    "version": 3
   },
   "file_extension": ".py",
   "mimetype": "text/x-python",
   "name": "python",
   "nbconvert_exporter": "python",
   "pygments_lexer": "ipython3",
   "version": "3.12.9"
  },
  "livereveal": {
   "height": "90%",
   "scroll": true,
   "width": "90%"
  }
 },
 "nbformat": 4,
 "nbformat_minor": 5
}
