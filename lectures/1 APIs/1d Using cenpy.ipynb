{
 "cells": [
  {
   "cell_type": "markdown",
   "id": "coated-diving",
   "metadata": {},
   "source": [
    "# Accessing census data using cenpy"
   ]
  },
  {
   "cell_type": "markdown",
   "id": "familiar-professor",
   "metadata": {},
   "source": [
    "## Lecture objectives\n",
    "\n",
    "1. Show how to access census data using `cenpy`\n",
    "2. Introduce basic plotting of geographic data with `geopandas`"
   ]
  },
  {
   "cell_type": "markdown",
   "id": "material-kitchen",
   "metadata": {},
   "source": [
    "Rather than using the Census API, we can call it through the `cenpy` package. This is often an easier way to get the census data, at least for simple datasets.\n",
    "\n",
    "The major downside of `cenpy` (at least, for now) is that it doesn't support any data vintage after 2019. For the 2020 census and subsequent American Community Survey releases, you'll have to use the Census Bureau API."
   ]
  },
  {
   "cell_type": "markdown",
   "id": "12ea4fd6-d0c4-4074-acaa-7115d794d455",
   "metadata": {},
   "source": [
    "<div class=\"alert alert-block alert-info\">\n",
    "<h3>Update</h3>\n",
    "<p>cenpy does not appear to be supported any longer, and does not work with newer versions of geopandas. So the code in this lecture video will probably no longer work. Follow along as a point of information, but don't try and run the code yourself. Hopefully cenpy will be updated in the future.</p>\n",
    "</div>"
   ]
  },
  {
   "cell_type": "code",
   "execution_count": null,
   "id": "answering-withdrawal",
   "metadata": {},
   "outputs": [],
   "source": [
    "import cenpy\n",
    "from cenpy import products\n",
    "\n",
    "# create a connection to the American Community Survey\n",
    "acs = products.ACS()"
   ]
  },
  {
   "cell_type": "markdown",
   "id": "25d0460c",
   "metadata": {},
   "source": [
    "The [online documentation](https://cenpy-devs.github.io/cenpy/api.html#product-american-community-survey) is helpful in showing the functions that are available. We could also call `help(acs)` or just `acs?`.\n",
    "\n",
    "The `tables` attribute  seems useful, as do the `filter_tables` and `from_county` functions."
   ]
  },
  {
   "cell_type": "code",
   "execution_count": null,
   "id": "conventional-agenda",
   "metadata": {},
   "outputs": [],
   "source": [
    "# what tables are available?\n",
    "acs.tables"
   ]
  },
  {
   "cell_type": "code",
   "execution_count": null,
   "id": "potential-private",
   "metadata": {},
   "outputs": [],
   "source": [
    "# Let's map the age of the housing stock\n",
    "# get all the tables that have \"BUILT\" in their description\n",
    "acs.filter_tables('BUILT', by='description')"
   ]
  },
  {
   "cell_type": "code",
   "execution_count": null,
   "id": "historic-survival",
   "metadata": {},
   "outputs": [],
   "source": [
    "# it looks like table B25035 and variable B25035_001E are promising, Let's see what is here in Riverside County\n",
    "riverside = products.ACS(2017).from_county('Riverside, CA', level='tract',\n",
    "                                        variables='B25035_001E')\n",
    "\n",
    "# you might get a bunch of FutureWarnings, but you can ignore these"
   ]
  },
  {
   "cell_type": "code",
   "execution_count": null,
   "id": "revolutionary-tennis",
   "metadata": {},
   "outputs": [],
   "source": [
    "# It looks like cenpy gives us a geopandas dataframe\n",
    "type(riverside)"
   ]
  },
  {
   "cell_type": "code",
   "execution_count": null,
   "id": "literary-lending",
   "metadata": {},
   "outputs": [],
   "source": [
    "riverside.head()"
   ]
  },
  {
   "cell_type": "code",
   "execution_count": null,
   "id": "funny-jenny",
   "metadata": {},
   "outputs": [],
   "source": [
    "# let's rename the census column to something more memorable\n",
    "riverside.rename(columns={'B25035_001E':'Median year built'}, inplace=True)"
   ]
  },
  {
   "cell_type": "code",
   "execution_count": null,
   "id": "personalized-collection",
   "metadata": {},
   "outputs": [],
   "source": [
    "riverside.head()"
   ]
  },
  {
   "cell_type": "markdown",
   "id": "96fbf314",
   "metadata": {},
   "source": [
    "`GEOID` gives the standard census FIPS code, formatted as 2-digit state + 3-digit county + 6 digit tract. Read more about them [here](https://www.policymap.com/2012/08/tips-on-fips-a-quick-guide-to-geographic-place-codes-part-iii/).\n",
    "\n",
    "`cenpy` also returns the geographic boundaries of each census tract as a polygon. This is helpful! And it means that we can plot the data pretty simply.\n",
    "\n",
    "Here, we use the standard `geopandas` plotting function. We tell it to plot the `Median year built` column, on the `ax` object that we just created."
   ]
  },
  {
   "cell_type": "code",
   "execution_count": null,
   "id": "baking-affair",
   "metadata": {},
   "outputs": [],
   "source": [
    "import matplotlib.pyplot as plt \n",
    "\n",
    "# create a matplotlib figure and axis object\n",
    "fig, ax = plt.subplots(figsize=(20,10))\n",
    "\n",
    "riverside.plot('Median year built', ax=ax, cmap='plasma', legend=True, \n",
    "               legend_kwds={'orientation': 'horizontal'})\n",
    "ax.set_facecolor('k')"
   ]
  },
  {
   "cell_type": "markdown",
   "id": "ec6f4008",
   "metadata": {},
   "source": [
    "There is much that we could do to improve this map, but let's save that for another time. In general, the best course is to follow the numerous examples for `geopandas` that you'll find online."
   ]
  },
  {
   "cell_type": "markdown",
   "id": "excellent-spank",
   "metadata": {},
   "source": [
    "<div class=\"alert alert-block alert-info\">\n",
    "<h3>Key Takeaways</h3>\n",
    "<ul>\n",
    "  <li>For simple queries, cenpy is a good alternative to the Census Bureau API.</li>\n",
    "  <li>cenpy also provides a handy way to get the geographic boundaries, for easy plotting.</li>\n",
    "  <li>However, cenpy only has a limited range of geographies and datasets, so for some tasks you may need to use the API.</li>\n",
    "</ul>\n",
    "</div>"
   ]
  }
 ],
 "metadata": {
  "kernelspec": {
   "display_name": "Python 3 (ipykernel)",
   "language": "python",
   "name": "python3"
  },
  "language_info": {
   "codemirror_mode": {
    "name": "ipython",
    "version": 3
   },
   "file_extension": ".py",
   "mimetype": "text/x-python",
   "name": "python",
   "nbconvert_exporter": "python",
   "pygments_lexer": "ipython3",
   "version": "3.12.9"
  }
 },
 "nbformat": 4,
 "nbformat_minor": 5
}
