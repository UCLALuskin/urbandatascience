{
 "cells": [
  {
   "cell_type": "markdown",
   "id": "coated-diving",
   "metadata": {
    "slideshow": {
     "slide_type": "slide"
    }
   },
   "source": [
    "# Using functions"
   ]
  },
  {
   "cell_type": "markdown",
   "id": "familiar-professor",
   "metadata": {
    "slideshow": {
     "slide_type": "fragment"
    }
   },
   "source": [
    "## Lecture objectives\n",
    "\n",
    "1. Demonstrate how to create a function that can query an API"
   ]
  },
  {
   "cell_type": "markdown",
   "id": "e3dcb828",
   "metadata": {},
   "source": [
    "In the previous lecture, we experimented with the BART API. Now, let's combine all this code into a function.\n",
    "\n",
    "If you haven't used functions before, [check out this tutorial](https://swcarpentry.github.io/python-novice-inflammation/08-func/index.html) first.\n",
    "\n",
    "Why might we use a function?\n",
    "* If we will use the same code repeatedly (e.g. requesting departures from different BART stations), a function makes our code more concise\n",
    "* Functions can make the code more readable, by making it modular\n",
    "\n",
    "Here is the code from the previous lecture that prints departures from 12th St station."
   ]
  },
  {
   "cell_type": "code",
   "execution_count": null,
   "id": "color-keeping",
   "metadata": {
    "slideshow": {
     "slide_type": "fragment"
    }
   },
   "outputs": [],
   "source": [
    "import requests\n",
    "import json\n",
    "import pandas as pd\n",
    "from IPython.display import display\n",
    "\n",
    "APIkey = 'XXXX'  # replace XXXX with the API key you used in the previous lecture\n",
    "requestString = 'http://api.bart.gov/api/etd.aspx?cmd=etd&orig=12TH&json=y&key='+APIkey\n",
    "\n",
    "r = requests.get(requestString)\n",
    "d = json.loads(r.text)\n",
    "etd = d['root']['station'][0]['etd']\n",
    "\n",
    "for e in etd:\n",
    "    print('\\nTrains to {}'.format(e['destination']))\n",
    "    display(pd.DataFrame(e['estimate']))"
   ]
  },
  {
   "cell_type": "markdown",
   "id": "8b0224c7",
   "metadata": {},
   "source": [
    "We can create a function by simply indenting the code, and adding a `def()` statement at the start, to define the function. "
   ]
  },
  {
   "cell_type": "code",
   "execution_count": null,
   "id": "b9b0a4a0",
   "metadata": {},
   "outputs": [],
   "source": [
    "def getArrivalTimes():\n",
    "    requestString = 'http://api.bart.gov/api/etd.aspx?cmd=etd&orig=12TH&json=y&key='+APIkey\n",
    "\n",
    "    r = requests.get(requestString)\n",
    "    d = json.loads(r.text)\n",
    "    etd = d['root']['station'][0]['etd']\n",
    "\n",
    "    for e in etd:\n",
    "        print('\\nTrains to {}'.format(e['destination']))\n",
    "        display(pd.DataFrame(e['estimate']))"
   ]
  },
  {
   "cell_type": "markdown",
   "id": "073cb486",
   "metadata": {},
   "source": [
    "We can now call this function any time we want to get the latest arrival times."
   ]
  },
  {
   "cell_type": "code",
   "execution_count": null,
   "id": "8edf271f",
   "metadata": {},
   "outputs": [],
   "source": [
    "getArrivalTimes()"
   ]
  },
  {
   "cell_type": "markdown",
   "id": "academic-schema",
   "metadata": {},
   "source": [
    "The advantages of creating a function will become much more clear if we generalize.\n",
    "\n",
    "Our function above only returns departure times for 12th St station. What if we want to tell the function the station we are interested in? To do this, we need to add an *argument*. This argument creates a variable that is internal to the function (i.e., it disappears once the function terminates).\n",
    "\n",
    "Let's call this argument `station`. We then insert the station into the string that we pass to the API, `requestString`. Note the use of `.format()` to put the station and API key into the string."
   ]
  },
  {
   "cell_type": "code",
   "execution_count": null,
   "id": "infrared-laundry",
   "metadata": {},
   "outputs": [],
   "source": [
    "def getArrivalTimes(station):\n",
    "    requestString = 'http://api.bart.gov/api/etd.aspx?cmd=etd&orig={}&json=y&key={}'.format(station, APIkey)\n",
    "\n",
    "    r = requests.get(requestString)\n",
    "    d = json.loads(r.text)\n",
    "    etd = d['root']['station'][0]['etd']\n",
    "\n",
    "    for e in etd:\n",
    "        print('\\nTrains to {}'.format(e['destination']))\n",
    "        display(pd.DataFrame(e['estimate']))\n",
    "\n",
    "getArrivalTimes('12TH')"
   ]
  },
  {
   "cell_type": "markdown",
   "id": "d3a2cc5a",
   "metadata": {},
   "source": [
    "We can get a list of stations using the `stns` command, according to the [documentation](https://api.bart.gov/docs/stn/stns.aspx).\n",
    "\n",
    "Then let's try another station using our handy function."
   ]
  },
  {
   "cell_type": "code",
   "execution_count": null,
   "id": "fe6af426",
   "metadata": {},
   "outputs": [],
   "source": [
    "requestString = 'http://api.bart.gov/api/stn.aspx?cmd=stns&key={}&json=y'.format(APIkey)\n",
    "r = requests.get(requestString)\n",
    "r.text"
   ]
  },
  {
   "cell_type": "code",
   "execution_count": null,
   "id": "75e47b66",
   "metadata": {},
   "outputs": [],
   "source": [
    "getArrivalTimes('WARM')"
   ]
  },
  {
   "cell_type": "markdown",
   "id": "b7e52da1",
   "metadata": {},
   "source": [
    "So far, our function only prints the output. We might want it to return the dataframe rather than (or as well as) printing it.\n",
    "\n",
    "Let's do this by creating a list of dataframes. For each one, we want to add the destination (since this isn't a column in the output). Then, we can use `pd.concat()` to concatenate into a single dataframe."
   ]
  },
  {
   "cell_type": "code",
   "execution_count": null,
   "id": "8b583e2e",
   "metadata": {},
   "outputs": [],
   "source": [
    "def getArrivalTimes(station):\n",
    "    requestString = 'http://api.bart.gov/api/etd.aspx?cmd=etd&orig={}&json=y&key={}'.format(station, APIkey)\n",
    "\n",
    "    r = requests.get(requestString)\n",
    "    d = json.loads(r.text)\n",
    "    etd = d['root']['station'][0]['etd']\n",
    "\n",
    "    df_list = []\n",
    "    for e in etd:\n",
    "        # create the dataframe\n",
    "        df = pd.DataFrame(e['estimate'])\n",
    "        # add the column with the destination\n",
    "        df['destination'] = e['destination']\n",
    "        # add it to the end of the list\n",
    "        df_list += [df] # df_list.append(df) would also have worked\n",
    "    \n",
    "    # now the loop has finished, return the concatenated dataframes\n",
    "    bigDf = pd.concat(df_list)\n",
    "    return bigDf\n",
    "\n",
    "getArrivalTimes('12TH')"
   ]
  },
  {
   "cell_type": "markdown",
   "id": "9c523b6e",
   "metadata": {},
   "source": [
    "<div class=\"alert alert-block alert-info\">\n",
    "<strong>Exercise:</strong> Adapt the function to add a column with the origin station too.\n",
    "</div>"
   ]
  },
  {
   "cell_type": "markdown",
   "id": "excellent-spank",
   "metadata": {},
   "source": [
    "<div class=\"alert alert-block alert-info\">\n",
    "<h3>Key Takeaways</h3>\n",
    "<ul>\n",
    "  <li>Functions are simple to create, and help to organize your code in a logical way.</li>\n",
    "</ul>\n",
    "</div>"
   ]
  }
 ],
 "metadata": {
  "kernelspec": {
   "display_name": "Python 3 (ipykernel)",
   "language": "python",
   "name": "python3"
  },
  "language_info": {
   "codemirror_mode": {
    "name": "ipython",
    "version": 3
   },
   "file_extension": ".py",
   "mimetype": "text/x-python",
   "name": "python",
   "nbconvert_exporter": "python",
   "pygments_lexer": "ipython3",
   "version": "3.12.9"
  },
  "livereveal": {
   "height": "90%",
   "scroll": true,
   "width": "90%"
  }
 },
 "nbformat": 4,
 "nbformat_minor": 5
}
