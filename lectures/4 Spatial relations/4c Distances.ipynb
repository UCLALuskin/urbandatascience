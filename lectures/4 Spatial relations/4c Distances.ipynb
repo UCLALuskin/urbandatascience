{
 "cells": [
  {
   "cell_type": "markdown",
   "id": "inner-miracle",
   "metadata": {},
   "source": [
    "# Distances and nearest neighbors"
   ]
  },
  {
   "cell_type": "markdown",
   "id": "coral-veteran",
   "metadata": {},
   "source": [
    "## Lecture objectives\n",
    "\n",
    "1. Introduce distance and nearest neighbor calculations\n",
    "\n",
    "A common task is getting the distances between a geometry and a set of other geometries, or the nearest neighbor. For example, you might want to get the closest school or grocery store to a particular census tract.\n",
    "\n",
    "First, let's load in the same dataset we used in the previous lectures."
   ]
  },
  {
   "cell_type": "code",
   "execution_count": null,
   "id": "b6a0fd83",
   "metadata": {},
   "outputs": [],
   "source": [
    "import geopandas as gpd\n",
    "import pandas as pd\n",
    "import numpy as np\n",
    "import requests\n",
    "import pygris\n",
    "\n",
    "pantryDf = pd.read_csv('../data/Food_Resources_in_California.csv')\n",
    "pantryDf = pantryDf[pantryDf.County=='Los Angeles']\n",
    "\n",
    "# convert to a GeoDataFrame\n",
    "pantrygdf = gpd.GeoDataFrame(\n",
    "    pantryDf, geometry=gpd.points_from_xy(pantryDf.Longitude, pantryDf.Latitude, \n",
    "                                          crs='EPSG:4326'))\n",
    "\n",
    "# get the census data for the City of LA\n",
    "# B19019_001E is median household income\n",
    "r = requests.get('https://api.census.gov/data/2019/acs/acs5?get=B19019_001E&for=tract:*&in=state:06%20county:037')\n",
    "censusdata = r.json()\n",
    "incomeDf = pd.DataFrame(censusdata[1:], columns=censusdata[0])\n",
    "incomeDf.rename(columns={'B19019_001E':'median_HH_income'}, inplace=True)\n",
    "incomeDf.median_HH_income = incomeDf.median_HH_income.astype(int)\n",
    "incomeDf.loc[incomeDf.median_HH_income<0, 'median_HH_income'] = np.nan\n",
    "\n",
    "# Add the tract boundaries. For this, we'll use the pygris package\n",
    "tracts = pygris.tracts(state='06',county='037', year=2019)\n",
    "tracts.set_index(['STATEFP','COUNTYFP','TRACTCE'], inplace=True)\n",
    "tracts.index.names=['state','county','tract']\n",
    "# and join the tract boundaries to the census data\n",
    "incomeDf = tracts[['geometry']].join(incomeDf.set_index(['state','county','tract'])).reset_index()"
   ]
  },
  {
   "cell_type": "markdown",
   "id": "fitted-savannah",
   "metadata": {},
   "source": [
    "For distances, the projection is important here so let's convert to State Plane. "
   ]
  },
  {
   "cell_type": "code",
   "execution_count": null,
   "id": "associate-kelly",
   "metadata": {},
   "outputs": [],
   "source": [
    "pantrygdf.to_crs('EPSG:3497', inplace=True)\n",
    "incomeDf.to_crs('EPSG:3497', inplace=True)"
   ]
  },
  {
   "cell_type": "markdown",
   "id": "b197dc0b",
   "metadata": {},
   "source": [
    "The nearest neighbor can be found with `sjoin_nearest`. The optional argument, `distance_col`, will add a column with the distances."
   ]
  },
  {
   "cell_type": "code",
   "execution_count": null,
   "id": "a2cf0f27",
   "metadata": {},
   "outputs": [],
   "source": [
    "incomeDf.sjoin_nearest(pantrygdf, distance_col='dist_to_pantry')"
   ]
  },
  {
   "cell_type": "markdown",
   "id": "0fb7d5e3",
   "metadata": {},
   "source": [
    "Note that we only have the result for the closest part of the census tract. If we want the centroid, we can create a new GeoDataFrame and convert its polygons to centroids."
   ]
  },
  {
   "cell_type": "code",
   "execution_count": null,
   "id": "bb7b37a4",
   "metadata": {},
   "outputs": [],
   "source": [
    "import matplotlib.pyplot as plt\n",
    "\n",
    "incomeDf_centroids = incomeDf.copy()\n",
    "incomeDf_centroids.geometry = incomeDf.geometry.centroid\n",
    "\n",
    "# map to show the centroids \n",
    "fig, ax=plt.subplots(figsize=(5,5))\n",
    "incomeDf_centroids.plot(markersize=1, ax=ax)\n",
    "incomeDf.plot(ax=ax, lw=4, alpha=0.5)"
   ]
  },
  {
   "cell_type": "markdown",
   "id": "cb3c6036",
   "metadata": {},
   "source": [
    "And let's do the nearest neighbor with these centroids."
   ]
  },
  {
   "cell_type": "code",
   "execution_count": null,
   "id": "1f4dcb2b",
   "metadata": {},
   "outputs": [],
   "source": [
    "incomeDf_centroids.sjoin_nearest(pantrygdf, distance_col='dist_to_pantry')"
   ]
  },
  {
   "cell_type": "markdown",
   "id": "385ba14f",
   "metadata": {},
   "source": [
    "Notice that the distances are a little larger than before."
   ]
  },
  {
   "cell_type": "code",
   "execution_count": null,
   "id": "d5d130e7",
   "metadata": {},
   "outputs": [],
   "source": [
    "incomeDf.sjoin_nearest(pantrygdf, \n",
    "        distance_col='dist_to_pantry').dist_to_pantry.mean()"
   ]
  },
  {
   "cell_type": "code",
   "execution_count": null,
   "id": "345662d3",
   "metadata": {},
   "outputs": [],
   "source": [
    "incomeDf_centroids.sjoin_nearest(pantrygdf, \n",
    "        distance_col='dist_to_pantry').dist_to_pantry.mean()"
   ]
  },
  {
   "cell_type": "markdown",
   "id": "f3a55e95",
   "metadata": {},
   "source": [
    "What if you don't just care about the closest one, but want to get the distances from a census tract to a larger number of pantries, or even all of them? For example, some accessibility measures look at the distance to the 2nd or 3rd closest destination (e.g. a grocery store), in order to capture the number of choices that people have.\n",
    "\n",
    "To start with, let's look at the distances to a single tract. Note that `sort_values` will sort the results, so it's easiest to see the smallest and largest distances."
   ]
  },
  {
   "cell_type": "code",
   "execution_count": null,
   "id": "9dccd820",
   "metadata": {},
   "outputs": [],
   "source": [
    "# as an example, take the first census tract, and get its geometry\n",
    "tractgeom = incomeDf.iloc[0].geometry\n",
    "\n",
    "# get the distances from this tract to all the food pantries\n",
    "distances = pantrygdf.distance(tractgeom)\n",
    "distances.sort_values(inplace=True)\n",
    "distances"
   ]
  },
  {
   "cell_type": "markdown",
   "id": "stopped-demographic",
   "metadata": {},
   "source": [
    "So how do we know which one is the 3rd closest? We can use `iloc` to get the 3rd row. "
   ]
  },
  {
   "cell_type": "code",
   "execution_count": null,
   "id": "actual-facial",
   "metadata": {},
   "outputs": [],
   "source": [
    "distances.iloc[2]"
   ]
  },
  {
   "cell_type": "markdown",
   "id": "powered-monroe",
   "metadata": {},
   "source": [
    "If we want to calculate the distance to the 3rd closest pantry for each census tract, we can put this in a function.\n",
    "\n",
    "The argument of the function will be the geometry of the tract. It will return the distance.\n",
    "\n",
    "Once we have that function, we can use our old friend `apply` to apply it to every tract in the city of LA."
   ]
  },
  {
   "cell_type": "code",
   "execution_count": null,
   "id": "owned-coordination",
   "metadata": {},
   "outputs": [],
   "source": [
    "def get_3rd_closest_dist(geom):\n",
    "    # get distance from every pantry to a single census tract (geom)\n",
    "    distances = pantrygdf.distance(geom)\n",
    "    third_closest = distances.sort_values().iloc[2]\n",
    "    return third_closest\n",
    "\n",
    "incomeDf['dist_third_closest'] = incomeDf.geometry.apply(get_3rd_closest_dist)"
   ]
  },
  {
   "cell_type": "code",
   "execution_count": null,
   "id": "julian-difference",
   "metadata": {},
   "outputs": [],
   "source": [
    "incomeDf"
   ]
  },
  {
   "cell_type": "markdown",
   "id": "8e5acf28",
   "metadata": {},
   "source": [
    "Finally, let's plot using the `seaborn.regplot()` function that we saw before."
   ]
  },
  {
   "cell_type": "code",
   "execution_count": null,
   "id": "little-georgia",
   "metadata": {},
   "outputs": [],
   "source": [
    "import seaborn as sns\n",
    "ax = sns.regplot(x=\"median_HH_income\", y=\"dist_third_closest\", data=incomeDf)"
   ]
  },
  {
   "cell_type": "markdown",
   "id": "duplicate-hollow",
   "metadata": {},
   "source": [
    "<div class=\"alert alert-block alert-info\">\n",
    "<h3>Key Takeaways</h3>\n",
    "<ul>\n",
    "  <li>Nearest neighbors, and distances are simple to calculate in geopandas.</li>\n",
    "  <li>Watch your projection!</li>\n",
    "</ul>\n",
    "</div>"
   ]
  }
 ],
 "metadata": {
  "kernelspec": {
   "display_name": "Python 3 (ipykernel)",
   "language": "python",
   "name": "python3"
  },
  "language_info": {
   "codemirror_mode": {
    "name": "ipython",
    "version": 3
   },
   "file_extension": ".py",
   "mimetype": "text/x-python",
   "name": "python",
   "nbconvert_exporter": "python",
   "pygments_lexer": "ipython3",
   "version": "3.11.11"
  }
 },
 "nbformat": 4,
 "nbformat_minor": 5
}
