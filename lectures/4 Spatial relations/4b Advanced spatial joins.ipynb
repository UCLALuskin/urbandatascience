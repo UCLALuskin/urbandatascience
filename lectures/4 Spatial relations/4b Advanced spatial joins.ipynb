{
 "cells": [
  {
   "cell_type": "markdown",
   "id": "inner-miracle",
   "metadata": {},
   "source": [
    "# Advanced spatial joins"
   ]
  },
  {
   "cell_type": "markdown",
   "id": "coral-veteran",
   "metadata": {},
   "source": [
    "## Lecture objectives\n",
    "\n",
    "1. Explore different spatial relationships (predicates)\n",
    "2. Practice troubleshooting spatial joins"
   ]
  },
  {
   "cell_type": "markdown",
   "id": "criminal-debut",
   "metadata": {},
   "source": [
    "## Other types of spatial relationships"
   ]
  },
  {
   "cell_type": "markdown",
   "id": "painful-wages",
   "metadata": {},
   "source": [
    "The `intersects` operator, which we used in the previous lecture, is one of the most common spatial predicates, i.e. the relationship between two geometries. It is excellent if you want to know whether a point is within (or on the boundary) of a polygon. In general, each point will match to one polygon, but you need to be careful if your points are on the boundary and thus intersect with two polygons.\n",
    "\n",
    "Let's start by loading two of the datasets we used in the last lecture. This is exactly the same code."
   ]
  },
  {
   "cell_type": "code",
   "execution_count": null,
   "id": "b6a0fd83",
   "metadata": {},
   "outputs": [],
   "source": [
    "import geopandas as gpd\n",
    "import pandas as pd\n",
    "import numpy as np\n",
    "import requests\n",
    "import pygris\n",
    "\n",
    "pantryDf = pd.read_csv('../data/Food_Resources_in_California.csv')\n",
    "pantryDf = pantryDf[pantryDf.County=='Los Angeles']\n",
    "\n",
    "# convert to a GeoDataFrame\n",
    "pantrygdf = gpd.GeoDataFrame(\n",
    "    pantryDf, geometry=gpd.points_from_xy(pantryDf.Longitude, pantryDf.Latitude, \n",
    "                                          crs='EPSG:4326'))\n",
    "# convert to 3857, so we can match the contextily default for basemaps\n",
    "pantrygdf.to_crs('EPSG:3857', inplace=True)\n",
    "\n",
    "# get the census data for LA County\n",
    "# B19019_001E is median household income\n",
    "r = requests.get('https://api.census.gov/data/2019/acs/acs5?get=B19019_001E&for=tract:*&in=state:06%20county:037')\n",
    "censusdata = r.json()\n",
    "incomeDf = pd.DataFrame(censusdata[1:], columns=censusdata[0])\n",
    "incomeDf.rename(columns={'B19019_001E':'median_HH_income'}, inplace=True)\n",
    "incomeDf.median_HH_income = incomeDf.median_HH_income.astype(int)\n",
    "incomeDf.loc[incomeDf.median_HH_income<0, 'median_HH_income'] = np.nan\n",
    "\n",
    "# Add the tract boundaries. For this, we'll use the pygris package\n",
    "tracts = pygris.tracts(state='06',county='037', year=2019)\n",
    "tracts.set_index(['STATEFP','COUNTYFP','TRACTCE'], inplace=True)\n",
    "tracts.index.names=['state','county','tract']\n",
    "# and join the tract boundaries to the census data\n",
    "incomeDf = tracts[['geometry']].join(incomeDf.set_index(['state','county','tract'])).reset_index()\n",
    "\n",
    "# create a consolidated GEOID column\n",
    "incomeDf['GEOID'] = incomeDf.state+incomeDf.county+incomeDf.tract\n",
    "\n",
    "# reproject to the same crs as pantrygdf\n",
    "incomeDf = incomeDf.to_crs('EPSG:3857')"
   ]
  },
  {
   "cell_type": "markdown",
   "id": "c2ac563f",
   "metadata": {},
   "source": [
    "Different predicates are defined in the `shapely` [documentation](https://shapely.readthedocs.io/en/stable/manual.html#binary-predicates). (`shapely` is working behind the scenes for many `geopandas` operations.)"
   ]
  },
  {
   "cell_type": "code",
   "execution_count": null,
   "id": "5471c84e",
   "metadata": {},
   "outputs": [],
   "source": [
    "print(incomeDf.sindex.valid_query_predicates)"
   ]
  },
  {
   "cell_type": "markdown",
   "id": "b74c8945",
   "metadata": {},
   "source": [
    "Let's look at the number of rows that are produced with three different predicates: intersects, contains, and within.\n",
    "\n",
    "How do you explain the different results below?"
   ]
  },
  {
   "cell_type": "code",
   "execution_count": null,
   "id": "processed-pasta",
   "metadata": {},
   "outputs": [],
   "source": [
    "print('There are {} pantries and {} tracts.'.format(len(pantrygdf), len(incomeDf)))\n",
    "\n",
    "pantries_intersects = gpd.sjoin(incomeDf[['GEOID','geometry']], \n",
    "                           pantrygdf, how=\"inner\", predicate='intersects')\n",
    "print('Using intersects: {} rows'.format(len(pantries_intersects)))\n",
    "\n",
    "pantries_contains = gpd.sjoin(incomeDf[['GEOID','geometry']], \n",
    "                           pantrygdf, how=\"inner\", predicate='contains')\n",
    "print('Using contains: {} rows'.format(len(pantries_contains)))\n",
    "\n",
    "pantries_within = gpd.sjoin(incomeDf[['GEOID','geometry']], \n",
    "                           pantrygdf, how=\"inner\", predicate='within')\n",
    "print('Using within: {} rows'.format(len(pantries_within)))"
   ]
  },
  {
   "cell_type": "markdown",
   "id": "angry-alexander",
   "metadata": {},
   "source": [
    "Intersects and contains return the same number of rows. If a census tract (a polygon) intersects a pantry (a point geometry), it also contains it.\n",
    "\n",
    "But a census tract is not within a pantry. A polygon cannot be within a point (it's too big!) \n",
    "\n",
    "## Troubleshooting spatial joins\n",
    "\n",
    "Also note that we have fewer join results than pantries. Why? A good guess would be that some pantries are physically outside the county (the \"county\" field notwithstanding)."
   ]
  },
  {
   "cell_type": "markdown",
   "id": "46a2b8af",
   "metadata": {},
   "source": [
    "<div class=\"alert alert-block alert-info\">\n",
    "<strong>Thought exercise:</strong> How would you verify that the missing pantries are outside the county?\n",
    "</div>"
   ]
  },
  {
   "cell_type": "markdown",
   "id": "6203f27d",
   "metadata": {},
   "source": [
    "We could map them. But note that the pantries dataset has a County field. So let's do `groupby` and ask for the size of each group. (All of the rows should be Los Angeles county because we filtered when we loaded in the dataset, but maybe we made a mistake?)"
   ]
  },
  {
   "cell_type": "code",
   "execution_count": null,
   "id": "8c2a72df",
   "metadata": {},
   "outputs": [],
   "source": [
    "pantrygdf.groupby('County').size()"
   ]
  },
  {
   "cell_type": "markdown",
   "id": "70111419",
   "metadata": {},
   "source": [
    "Hmm. So either all the pantries are within the county, or there is an error in the `County` column. Or our join is going wrong.\n",
    "\n",
    "Let's map it and take a look. Note that we use the `alpha` parameter to adjust the transparency of both the census tracts and the basemap, making it easier to see the intersection."
   ]
  },
  {
   "cell_type": "code",
   "execution_count": null,
   "id": "6c27b684",
   "metadata": {},
   "outputs": [],
   "source": [
    "import matplotlib.pyplot as plt\n",
    "import contextily as ctx\n",
    "\n",
    "fig, ax = plt.subplots(figsize=(10,10))\n",
    "pantrygdf.plot(ax=ax)\n",
    "incomeDf.plot(ax=ax, alpha=0.5) # 50% opacity\n",
    "ctx.add_basemap(ax=ax, alpha=0.3) # 30% opacity"
   ]
  },
  {
   "cell_type": "markdown",
   "id": "0beb9c59",
   "metadata": {},
   "source": [
    "Aha. It looks like two of them are just outside the boundary. Probably, the `County` field was misspecified, or the location is imprecise. \n",
    "\n",
    "Let's look at the culprits. The `difference` function, which works on a pandas `Index`, is useful here. It's a set-theoretic operation, which looks for the elements that are in one index but not other. [Read about it here.](https://pandas.pydata.org/docs/reference/api/pandas.Index.difference.html)"
   ]
  },
  {
   "cell_type": "code",
   "execution_count": null,
   "id": "d0cdfa6f",
   "metadata": {},
   "outputs": [],
   "source": [
    "pantrygdf.index.difference(pantries_intersects.index)"
   ]
  },
  {
   "cell_type": "markdown",
   "id": "1e477c32-ff3f-4a7e-b3e1-fdfe651ae2ec",
   "metadata": {},
   "source": [
    "OK, something went wrong. We should expect two rows (211 in `pantrygdf`, minus 209 in `pantries_intersects`)."
   ]
  },
  {
   "cell_type": "code",
   "execution_count": null,
   "id": "2bc67e91-0499-48bd-827a-9455c1c9c746",
   "metadata": {},
   "outputs": [],
   "source": [
    "pantries_intersects.head(2)"
   ]
  },
  {
   "cell_type": "markdown",
   "id": "0d9462e5-b4dd-496a-b16a-8be1abb36280",
   "metadata": {},
   "source": [
    "Aha. The spatial join created a new index, and put the original index in a column called `index_right`. Let's use this column instead. "
   ]
  },
  {
   "cell_type": "code",
   "execution_count": null,
   "id": "7d9dc937-ebb1-402f-a413-096b989ead97",
   "metadata": {},
   "outputs": [],
   "source": [
    "pantrygdf.index.difference(pantries_intersects.index_right)"
   ]
  },
  {
   "cell_type": "markdown",
   "id": "e1d824c9-47d1-43ab-bbfa-b0568dcca519",
   "metadata": {},
   "source": [
    "What are these rows?"
   ]
  },
  {
   "cell_type": "code",
   "execution_count": null,
   "id": "d3ee1574-7ebb-4ab4-b354-046b317cbc1a",
   "metadata": {},
   "outputs": [],
   "source": [
    "pantrygdf.loc[[390,400]]  "
   ]
  },
  {
   "cell_type": "markdown",
   "id": "5df07911",
   "metadata": {},
   "source": [
    "Well, neither of these two cities are in Los Angeles County. (Upland is in San Bernadino, and Los Alamitos is in Orange.) So it's safe to ignore them, and work with the 209 pantries that were spatially joined.\n",
    "\n",
    "The point here: spatial joins often throw up unexpected results. You'll have to do some detective work to figure out what goes wrong.\n",
    "\n",
    "## Spatial attributes\n",
    "We can access useful attributes of the geometry directly from `geopandas`. Areas, lengths, and bounding boxes are three examples.\n",
    "\n",
    "Note that the units will be based on your projection. You probably don't want to measure distances or areas in degrees! But even a projection in meters can be distorted.\n",
    "\n",
    "The best projection will vary locally. In the US, the State Plane coordinate systems are usually the best choice for local-level work. Los Angeles is in State Plane [California zone 5, which has an EPSG code of 3497](https://epsg.io/3497). Note the units are in meters. If you want feet, [try EPSG code 6424](https://epsg.io/6424). "
   ]
  },
  {
   "cell_type": "code",
   "execution_count": null,
   "id": "ac4fa3ba",
   "metadata": {},
   "outputs": [],
   "source": [
    "# in Web Mercator\n",
    "print(incomeDf.crs)\n",
    "print(incomeDf.geometry.area.head())"
   ]
  },
  {
   "cell_type": "code",
   "execution_count": null,
   "id": "4db7d2d0",
   "metadata": {},
   "outputs": [],
   "source": [
    "# in State Plane\n",
    "print(incomeDf.to_crs('EPSG:3497').geometry.area.head())"
   ]
  },
  {
   "cell_type": "markdown",
   "id": "2f4d5636",
   "metadata": {},
   "source": [
    "For a polygon, length is the perimeter."
   ]
  },
  {
   "cell_type": "code",
   "execution_count": null,
   "id": "incomplete-router",
   "metadata": {},
   "outputs": [],
   "source": [
    "print(incomeDf.geometry.to_crs('EPSG:3497').length.head()) "
   ]
  },
  {
   "cell_type": "markdown",
   "id": "77dbcb0e",
   "metadata": {},
   "source": [
    "The projection is less important for the bounding box, as long as you know which one you are using. Here, we are still in Web Mercator. But lat/lon is often the easiest to work with."
   ]
  },
  {
   "cell_type": "code",
   "execution_count": null,
   "id": "404a7aba",
   "metadata": {},
   "outputs": [],
   "source": [
    "print(incomeDf.geometry.bounds.head())"
   ]
  },
  {
   "cell_type": "code",
   "execution_count": null,
   "id": "77c3b2ea",
   "metadata": {},
   "outputs": [],
   "source": [
    "print(incomeDf.to_crs('EPSG:4326').geometry.bounds.head())"
   ]
  },
  {
   "cell_type": "markdown",
   "id": "duplicate-hollow",
   "metadata": {},
   "source": [
    "<div class=\"alert alert-block alert-info\">\n",
    "<h3>Key Takeaways</h3>\n",
    "<ul>\n",
    "  <li>Intersects is the most common spatial predicate, but it's not always what you want.</li>\n",
    "  <li>Use an an appropriate projection.</li>\n",
    "  <li>As with any join, inspect your output. If it's not what you expect, computing summary statistics or mapping can help identify the problem.</li>\n",
    "</ul>\n",
    "</div>"
   ]
  }
 ],
 "metadata": {
  "kernelspec": {
   "display_name": "Python 3 (ipykernel)",
   "language": "python",
   "name": "python3"
  },
  "language_info": {
   "codemirror_mode": {
    "name": "ipython",
    "version": 3
   },
   "file_extension": ".py",
   "mimetype": "text/x-python",
   "name": "python",
   "nbconvert_exporter": "python",
   "pygments_lexer": "ipython3",
   "version": "3.11.11"
  }
 },
 "nbformat": 4,
 "nbformat_minor": 5
}
