{
 "cells": [
  {
   "cell_type": "markdown",
   "id": "545b3a7a",
   "metadata": {},
   "source": [
    "# Spatial clusters\n",
    "## Lecture objectives\n",
    "1. Adapt the idea of k-means cluster analysis to spatial clusters\n",
    "2. Provide more practice with k-means clustering and data wrangling\n",
    "\n",
    "The principles of clustering that we discussed in the previous lecture apply to identify clusters in space. The difference: we just cluster on the `x` and `y` coordinates rather than non-spatial variables such as voting on a particular proposition.\n",
    "\n",
    "Let's look at [clusters of marijuana dispensaries](https://data.lacity.org/Administration-Finance/Medical-Marijuana-Collective-Map/rv73-2zf4) in LA."
   ]
  },
  {
   "cell_type": "code",
   "execution_count": null,
   "id": "becde7ba",
   "metadata": {},
   "outputs": [],
   "source": [
    "import pandas as pd\n",
    "import requests\n",
    "import json\n",
    "\n",
    "url = 'https://data.lacity.org/resource/bunu-zsyc.json'\n",
    "r = requests.get(url)\n",
    "mdf = pd.DataFrame(json.loads(r.content))\n",
    "mdf.head()"
   ]
  },
  {
   "cell_type": "markdown",
   "id": "23498ddc",
   "metadata": {},
   "source": [
    "Note the lat /lon information is a dictionary in the `location_1` column."
   ]
  },
  {
   "cell_type": "code",
   "execution_count": null,
   "id": "bf7a3930",
   "metadata": {},
   "outputs": [],
   "source": [
    "mdf.location_1.iloc[0]"
   ]
  },
  {
   "cell_type": "markdown",
   "id": "2d534e85-ab21-4fe5-bb1e-66c811c13f7b",
   "metadata": {},
   "source": [
    "<div class=\"alert alert-block alert-info\">\n",
    "    <strong>Exercise:</strong> Extract the lat/lon information from the <strong>location_1</strong> column and place it in two new columns\n",
    "</div>"
   ]
  },
  {
   "cell_type": "code",
   "execution_count": null,
   "id": "c1f582cf",
   "metadata": {},
   "outputs": [],
   "source": [
    "mdf['lat'] = mdf.location_1.apply(lambda x: float(x['coordinates'][1]))\n",
    "mdf['lon'] = mdf.location_1.apply(lambda x: float(x['coordinates'][0]))"
   ]
  },
  {
   "cell_type": "markdown",
   "id": "411f6292",
   "metadata": {},
   "source": [
    "What row is causing this problem? Let's look at them?"
   ]
  },
  {
   "cell_type": "code",
   "execution_count": null,
   "id": "8eaf3031",
   "metadata": {},
   "outputs": [],
   "source": [
    "mdf.location_1.head(20)"
   ]
  },
  {
   "cell_type": "markdown",
   "id": "3804f328",
   "metadata": {},
   "source": [
    "OK, we need to drop the Null values for this column."
   ]
  },
  {
   "cell_type": "code",
   "execution_count": null,
   "id": "306e3bcc",
   "metadata": {},
   "outputs": [],
   "source": [
    "mdf.dropna(subset='location_1', inplace=True)\n",
    "mdf['lat'] = mdf.location_1.apply(lambda x: float(x['coordinates'][1]))\n",
    "mdf['lon'] = mdf.location_1.apply(lambda x: float(x['coordinates'][0]))"
   ]
  },
  {
   "cell_type": "markdown",
   "id": "57ce82c7",
   "metadata": {},
   "source": [
    "Let's have a look at the columns we just created. "
   ]
  },
  {
   "cell_type": "code",
   "execution_count": null,
   "id": "010a87c3",
   "metadata": {},
   "outputs": [],
   "source": [
    "mdf[['lat','lon']].describe()"
   ]
  },
  {
   "cell_type": "markdown",
   "id": "49bc70dd",
   "metadata": {},
   "source": [
    "It looks like there are some errors in the input data. Some have a latitude and/or longitude of zero! There are also some with locations with improbable values.\n",
    "\n",
    "Let's crudely limit the dataset to those in Los Angeles. I eyeballed the lat/lon limits from a map.\n",
    "\n",
    "Then we can convert to a GeoDataFrame."
   ]
  },
  {
   "cell_type": "code",
   "execution_count": null,
   "id": "bcc67d4b",
   "metadata": {},
   "outputs": [],
   "source": [
    "mdf = mdf[(mdf.lat>=33.6) & (mdf.lat<=34.8)]\n",
    "mdf = mdf[(mdf.lon>=-119.0) & (mdf.lon<=-117.6)]\n",
    "\n",
    "import geopandas as gpd\n",
    "\n",
    "mgdf = gpd.GeoDataFrame(mdf, \n",
    "            geometry = gpd.points_from_xy(mdf.lon, mdf.lat), \n",
    "            crs='EPSG:4326')\n",
    "mgdf.plot()"
   ]
  },
  {
   "cell_type": "markdown",
   "id": "342bba02",
   "metadata": {},
   "source": [
    "Now let's cluster. Again, we'd want to experiment with `K`, but let's identify 20 clusters to start.\n",
    "\n",
    "Technically, we should reproject before we cluster because a degree of latitude is not the same distance as a degree of longitude. But we can overlook that for simplicity's sake."
   ]
  },
  {
   "cell_type": "code",
   "execution_count": null,
   "id": "40819fe9",
   "metadata": {},
   "outputs": [],
   "source": [
    "from sklearn.cluster import KMeans\n",
    "\n",
    "kmeans = KMeans(n_clusters=20, random_state=1).fit(mgdf[['lat','lon']])\n",
    "mgdf['cluster_id'] = kmeans.labels_\n",
    "mgdf.head()"
   ]
  },
  {
   "cell_type": "markdown",
   "id": "70e1ccd2",
   "metadata": {},
   "source": [
    "And map them! Again, this is almost identical code to what we used before. But let's ditch the legend because there are lots of clusters and the number is not as relevant."
   ]
  },
  {
   "cell_type": "code",
   "execution_count": null,
   "id": "2f1f974a",
   "metadata": {},
   "outputs": [],
   "source": [
    "import matplotlib.pyplot as plt\n",
    "import contextily as ctx\n",
    "\n",
    "fig, ax = plt.subplots(figsize=(5,5))\n",
    "mgdf.to_crs('EPSG:3857').plot('cluster_id', categorical=True, legend=False, \n",
    "                                   ax=ax, alpha=0.4)\n",
    "\n",
    "ctx.add_basemap(ax, source=ctx.providers.OpenStreetMap.Mapnik)\n",
    "ax.set_title('Dispensary clusters', fontsize=10)                           \n",
    "#ax.set_ylim([3.98e6, 4.14e6])\n",
    "ax.set_xticks([])\n",
    "ax.set_yticks([])"
   ]
  },
  {
   "cell_type": "markdown",
   "id": "8d78dcaa",
   "metadata": {},
   "source": [
    "We could also map the centroid of each cluster. But I'll leave that for you as an exercise."
   ]
  },
  {
   "cell_type": "markdown",
   "id": "2e85df09-63ca-4688-9b5e-bb373b2152de",
   "metadata": {},
   "source": [
    "<div class=\"alert alert-block alert-info\">\n",
    "    <strong>Exercise:</strong> Map the centroid of each cluster. <em>Hint</em>: The raw lat/lon values are found in <strong>kmeans.cluster_centers_</strong>.\n",
    "</div>"
   ]
  },
  {
   "cell_type": "markdown",
   "id": "129f0226",
   "metadata": {},
   "source": [
    "<div class=\"alert alert-block alert-info\">\n",
    "<h3>Key Takeaways</h3>\n",
    "<ul>\n",
    "    <li>Spatial clusters work in a very similar way to non-spatial clusters.</li>\n",
    "    <li>They can identify different groupings and/or hotspots.</li>\n",
    "\n",
    "</ul>\n",
    "</div>"
   ]
  }
 ],
 "metadata": {
  "kernelspec": {
   "display_name": "Python 3 (ipykernel)",
   "language": "python",
   "name": "python3"
  },
  "language_info": {
   "codemirror_mode": {
    "name": "ipython",
    "version": 3
   },
   "file_extension": ".py",
   "mimetype": "text/x-python",
   "name": "python",
   "nbconvert_exporter": "python",
   "pygments_lexer": "ipython3",
   "version": "3.11.11"
  }
 },
 "nbformat": 4,
 "nbformat_minor": 5
}
