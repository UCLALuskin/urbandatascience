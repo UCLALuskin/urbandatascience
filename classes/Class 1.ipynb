{
 "cells": [
  {
   "cell_type": "markdown",
   "id": "53fce03f",
   "metadata": {},
   "source": [
    "## Module 1 Class activities\n",
    "This notebook is a starting point for the exercises and activities that we'll do in class.\n",
    "\n",
    "Before you attempt any of these activities, make sure to watch the Module 1 video lectures."
   ]
  },
  {
   "cell_type": "markdown",
   "id": "c092609b",
   "metadata": {},
   "source": [
    "### Using the `requests` library to query an API\n",
    "Here's the code that we saw in the video lecture that queries BART for real-time arrivals."
   ]
  },
  {
   "cell_type": "code",
   "execution_count": null,
   "id": "89222500",
   "metadata": {},
   "outputs": [],
   "source": [
    "import json\n",
    "import pandas as pd\n",
    "import requests\n",
    "\n",
    "APIkey = 'XXXX'  # the key posted on BART's website\n",
    "station = 'CIVC'\n",
    "requestString = 'http://api.bart.gov/api/etd.aspx?cmd=etd&orig={}&json=y&key={}'.format(station, APIkey)\n",
    "r = requests.get(requestString)\n",
    "d = json.loads(r.text)\n",
    "etd = d['root']['station'][0]['etd']\n",
    "print('Trains from {} to {}'.format(station, etd[0]['destination']))\n",
    "df = pd.DataFrame(etd[0]['estimate'])\n",
    "df"
   ]
  },
  {
   "cell_type": "markdown",
   "id": "5e6d730d",
   "metadata": {},
   "source": [
    "<div class=\"alert alert-block alert-info\">\n",
    "<strong>Exercise:</strong> Explore the different objects. What are <strong>r</strong>, <strong>d</strong>, and <strong>etd</strong>. What can you do with them?\n",
    "</div>"
   ]
  },
  {
   "cell_type": "markdown",
   "id": "77669ec3",
   "metadata": {},
   "source": [
    "Hint: Use `type()` to find out the type of an object (e.g. `type(r)`), and `?` to pull up the help screen (e.g. `r?`).\n",
    "\n",
    "You can also tab autocomplete to discover an object's attributes and methods (e.g. `r.` and then `TAB`). "
   ]
  },
  {
   "cell_type": "code",
   "execution_count": null,
   "id": "af29ac85",
   "metadata": {},
   "outputs": [],
   "source": [
    "# your code here\n",
    "r."
   ]
  },
  {
   "cell_type": "markdown",
   "id": "98e25862",
   "metadata": {},
   "source": [
    "Now let's explore the other options and API commands that BART offers. \n",
    "\n",
    "The API documentation for the `etd` (real-time information) command is [here](https://api.bart.gov/docs/etd/etd.aspx). "
   ]
  },
  {
   "cell_type": "markdown",
   "id": "19e3f6d0",
   "metadata": {},
   "source": [
    "<div class=\"alert alert-block alert-info\">\n",
    "<strong>Exercise:</strong> Write a command to retrieve real-time departures for southbound trains at Civic Center station (code: CIVC). Hint: You'll need to add another <strong>&</strong> to <strong>requestString</strong>.\n",
    "</div>"
   ]
  },
  {
   "cell_type": "code",
   "execution_count": null,
   "id": "9f8705a1",
   "metadata": {},
   "outputs": [],
   "source": [
    "# your code here"
   ]
  },
  {
   "cell_type": "markdown",
   "id": "dd5bdf82",
   "metadata": {},
   "source": [
    "<div class=\"alert alert-block alert-info\">\n",
    "    <strong>Exercise:</strong> Use the <strong>elev</strong> command to obtain the elevator status at each station, and put it in a dataframe. Optional extension: pass the parameters as a dictionary to requests, as we saw in the video lecture."
   ]
  },
  {
   "cell_type": "markdown",
   "id": "1489bc0c",
   "metadata": {},
   "source": [
    "See the API docs [here](https://api.bart.gov/docs/bsa/elev.aspx) for details of that command."
   ]
  },
  {
   "cell_type": "code",
   "execution_count": null,
   "id": "806158ab",
   "metadata": {},
   "outputs": [],
   "source": [
    "# your code here"
   ]
  },
  {
   "cell_type": "markdown",
   "id": "eb62fb82",
   "metadata": {},
   "source": [
    "### Accessing census data\n",
    "\n",
    "Recall that we accessed census data using the Census Bureau API.\n",
    "\n",
    "Here's the relevant code that we saw in the video lecture to get the 5-year ACS estimates for population (table `B01001_001E`)."
   ]
  },
  {
   "cell_type": "code",
   "execution_count": null,
   "id": "bd1a70c8",
   "metadata": {},
   "outputs": [],
   "source": [
    "import json\n",
    "import requests\n",
    "import pandas as pd\n",
    "\n",
    "r = requests.get('https://api.census.gov/data/2023/acs/acs5?get=B01001_001E&for=county')\n",
    "censusdata = r.json()\n",
    "census = pd.DataFrame(censusdata[1:], columns=censusdata[0])\n",
    "census.head()"
   ]
  },
  {
   "cell_type": "markdown",
   "id": "f7e05635",
   "metadata": {},
   "source": [
    "<div class=\"alert alert-block alert-info\">\n",
    "<strong>Exercise:</strong> Retrieve population data at the census tract level for LA County, and put it in a pandas dataframe. (You can use the 5-year ACS if you like.)\n",
    "</div>"
   ]
  },
  {
   "cell_type": "markdown",
   "id": "c28d9352",
   "metadata": {},
   "source": [
    "Some examples are given [here](https://api.census.gov/data/2015/acs/acs5/examples.html). \n",
    "\n",
    "Note that you don't need the API key for a small number of queries, so you can delete `&key=YOUR_KEY_GOES_HERE` from the examples. \n",
    "\n",
    "The FIPS code for California is `06` and for Los Angeles County `037`."
   ]
  },
  {
   "cell_type": "code",
   "execution_count": null,
   "id": "2ab4a446",
   "metadata": {},
   "outputs": [],
   "source": [
    "# your code here"
   ]
  },
  {
   "cell_type": "markdown",
   "id": "52eb7f94",
   "metadata": {},
   "source": [
    "<div class=\"alert alert-block alert-info\">\n",
    "<strong>Exercise:</strong> Retrieve the census data for race/ethnicity for tracts in Los Angeles county, and put it in a pandas dataframe. \n",
    "</div>"
   ]
  },
  {
   "cell_type": "markdown",
   "id": "f80478ac",
   "metadata": {},
   "source": [
    "Hints:\n",
    "* The list of variables is [here](https://api.census.gov/data/2015/acs/acs5/variables.html).\n",
    "* The data is crosstabulated by race and age and gender. If you just want race/ethnicity, then look at the `Estimate!!Total:` variables. For example, `B01001H_001E` gives the total number of non-Hispanic white people, without further disaggregating by gender and age. \n",
    "* Start with the simplest measure of race. For example, you could calculate the proportion of Black people or non-Hispanic white people in each census tract, by dividing the relevant variable by the total population (which you already retrieved above).\n",
    "* You can request multiple variables at once - just separate them with commas. For example, `get=NAME,B01001_001E,B01001H_001E`. \n",
    "* `NAME` means that you are requesting the description of the geography - this is optional.\n"
   ]
  },
  {
   "cell_type": "code",
   "execution_count": null,
   "id": "a5fa97cb",
   "metadata": {},
   "outputs": [],
   "source": [
    "# your code here"
   ]
  },
  {
   "cell_type": "markdown",
   "id": "fc824310",
   "metadata": {},
   "source": [
    "<div class=\"alert alert-block alert-info\">\n",
    "<strong>Exercise:</strong> Can you write a function that retrieves population by race for all census tracts in a specified county? (Or a simplified measure of race, such as the proportion of Black people.) \n",
    "</div>"
   ]
  },
  {
   "cell_type": "markdown",
   "id": "375585a8",
   "metadata": {},
   "source": [
    "Hint: use the code you wrote, but replace the county FIPS code `037` with a variable. Your function can take a single argument, e.g. `countyFIPS`."
   ]
  },
  {
   "cell_type": "code",
   "execution_count": null,
   "id": "dd45dee4",
   "metadata": {},
   "outputs": [],
   "source": [
    "# your code here"
   ]
  },
  {
   "cell_type": "markdown",
   "id": "9bcf1b0e",
   "metadata": {},
   "source": [
    "<div class=\"alert alert-block alert-info\">\n",
    "<strong>Exercise:</strong> Map your results!\n",
    "</div>"
   ]
  },
  {
   "cell_type": "markdown",
   "id": "50bc4192-5ada-42cd-a531-6b58325dd7ee",
   "metadata": {},
   "source": [
    "You can use the `pygris` library to import the geographic boundary files.\n",
    "\n",
    "Then you can join these boundaries to your census data. We'll cover joins in depth in a couple of weeks, but for now, you can adapt the code below."
   ]
  },
  {
   "cell_type": "code",
   "execution_count": null,
   "id": "9c5efcca-a314-4b8d-b8d0-b74df6c31e6e",
   "metadata": {},
   "outputs": [],
   "source": [
    "import pygris\n",
    "# 041 is Marin county\n",
    "tracts = pygris.tracts(state='06',county='041', year=2022)\n",
    "# this sets some of the columns as the index, to make a join easier\n",
    "tracts.set_index(['STATEFP','COUNTYFP','TRACTCE'], inplace=True)\n",
    "tracts.index.names=['state','county','tract']\n",
    "\n",
    "# suppose that your census data is in a dataframe called census\n",
    "# the next line will add the geometry columns from tracts\n",
    "census = tracts[['geometry']].join(census.set_index(['state','county','tract']))"
   ]
  },
  {
   "cell_type": "code",
   "execution_count": null,
   "id": "38778d45",
   "metadata": {},
   "outputs": [],
   "source": [
    "# your code here"
   ]
  },
  {
   "cell_type": "markdown",
   "id": "95a6407c",
   "metadata": {},
   "source": [
    "### Using Socrata"
   ]
  },
  {
   "cell_type": "markdown",
   "id": "13f01449",
   "metadata": {},
   "source": [
    "Here's the example that we saw in the lecture."
   ]
  },
  {
   "cell_type": "code",
   "execution_count": null,
   "id": "85c14749",
   "metadata": {},
   "outputs": [],
   "source": [
    "import geopandas as gpd\n",
    "url = 'https://data.lacity.org/resource/mymu-zi3s.geojson'\n",
    "gdf = gpd.read_file(url)\n",
    "gdf.plot()"
   ]
  },
  {
   "cell_type": "code",
   "execution_count": null,
   "id": "ce8ada5f",
   "metadata": {},
   "outputs": [],
   "source": [
    "gpd.read_file?"
   ]
  },
  {
   "cell_type": "markdown",
   "id": "e7dcb1a3",
   "metadata": {},
   "source": [
    "<div class=\"alert alert-block alert-info\">\n",
    "<strong>Exercise:</strong> Choose another dataset on Socrata, download it using the API, and map the results. \n",
    "</div>"
   ]
  },
  {
   "cell_type": "markdown",
   "id": "bffeece0",
   "metadata": {},
   "source": [
    "The City of Los Angeles datasets are [here](https://data.lacity.org). Feel free to choose another city or county if you prefer.\n",
    "\n",
    "Some possible datasets of planning-related interest:\n",
    "* [DACA/DAPA workshops](https://data.lacity.org/Community-Economic-Development/Map2-DACA-DAPA-Workshops/icwt-9z3e) (seems a bit dated)\n",
    "* [Solar PV permits](https://data.lacity.org/A-Prosperous-City/Solar-PV-Permits-in-LA/bdt7-w2xr)\n",
    "* [Parks](https://data.lacity.org/Community-Economic-Development/Department-of-Recreation-and-Parks-Facility-and-Pa/ax8j-dhzm)"
   ]
  },
  {
   "cell_type": "code",
   "execution_count": null,
   "id": "d141d6a8",
   "metadata": {},
   "outputs": [],
   "source": [
    "# your code here"
   ]
  },
  {
   "cell_type": "markdown",
   "id": "a2818a26",
   "metadata": {},
   "source": [
    "<div class=\"alert alert-block alert-info\">\n",
    "<h3>What you should have learned</h3>\n",
    "<ul>\n",
    "  <li>Gain confidence in experimenting with code - exploring different objects, writing functions, and so on</li>\n",
    "  <li>Learn how to read API documentation and adapt the examples to create your own queries.</li>\n",
    "  <li>Gain confidence in mapping the results. We'll practice this much more throughout the quarter.</li>\n",
    "</ul>\n",
    "</div>"
   ]
  }
 ],
 "metadata": {
  "kernelspec": {
   "display_name": "Python 3 (ipykernel)",
   "language": "python",
   "name": "python3"
  },
  "language_info": {
   "codemirror_mode": {
    "name": "ipython",
    "version": 3
   },
   "file_extension": ".py",
   "mimetype": "text/x-python",
   "name": "python",
   "nbconvert_exporter": "python",
   "pygments_lexer": "ipython3",
   "version": "3.12.9"
  }
 },
 "nbformat": 4,
 "nbformat_minor": 5
}
