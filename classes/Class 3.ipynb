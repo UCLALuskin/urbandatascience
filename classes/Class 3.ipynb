{
 "cells": [
  {
   "cell_type": "markdown",
   "id": "53fce03f",
   "metadata": {},
   "source": [
    "## Module 3 Class activities\n",
    "This notebook is a starting point for the exercises and activities that we'll do in class.\n",
    "\n",
    "Before you attempt any of these activities, make sure to watch the video lectures for this module."
   ]
  },
  {
   "cell_type": "markdown",
   "id": "c092609b",
   "metadata": {},
   "source": [
    "### Aggregation\n",
    "Let's look at the spatial distribution of vaccine hesitancy, early in the pandemic.\n",
    "\n",
    "The CDC has a dataset at the county level, [available via Socrata](https://data.cdc.gov/Vaccinations/Vaccine-Hesitancy-for-COVID-19-County-and-local-es/q9mh-h2tw).\n"
   ]
  },
  {
   "cell_type": "markdown",
   "id": "a30faed6",
   "metadata": {},
   "source": [
    "<div class=\"alert alert-block alert-info\">\n",
    "<strong>Exercise:</strong> Import the vaccine hesitancy dataset into a dataframe. Call it <strong>hesitancy</strong>.\n",
    "</div>"
   ]
  },
  {
   "cell_type": "markdown",
   "id": "3deaca3b",
   "metadata": {},
   "source": [
    "*Hint*: Use the same approach as for the Seattle permits (class 2) or the Los Angeles housing (lecture 5). Just use a different URL.\n",
    "\n",
    "*Hint*: Add the `limit` keyword at the end of the URL to get more than 1000 rows. [See the example here](https://github.com/socrata/discuss/issues/145). There are 3,142 rows, according to the dataset's webpage, so you will be safe if you specify a limit of (say) 5000 rows."
   ]
  },
  {
   "cell_type": "code",
   "execution_count": null,
   "id": "a79d623c",
   "metadata": {},
   "outputs": [],
   "source": [
    "# your code here\n",
    "hesitancy = 9999"
   ]
  },
  {
   "cell_type": "markdown",
   "id": "022f20a6",
   "metadata": {},
   "source": [
    "Before we do any joins, let's look at some state-level summary statistics."
   ]
  },
  {
   "cell_type": "markdown",
   "id": "89523f4a",
   "metadata": {},
   "source": [
    "<div class=\"alert alert-block alert-info\">\n",
    "<strong>Exercise:</strong> Create a dataframe with the state-level means of estimated_hesitant and the vaccination rate.\n",
    "</div>"
   ]
  },
  {
   "cell_type": "markdown",
   "id": "e4e568d4",
   "metadata": {},
   "source": [
    "*Hints*:\n",
    "- It might make more sense to weight each county by population, but let's not worry about that here.\n",
    "- The `percent_adults_fully` columm gives the vaccination rate (as of June 2021)\n",
    "- Use `groupby`!\n",
    "- Before you do any operations, you might need to convert the data type of the column. I recommend creating a new column, e.g. `df['newcol'] = df.oldcol.astype(float)`"
   ]
  },
  {
   "cell_type": "code",
   "execution_count": null,
   "id": "5e407307",
   "metadata": {},
   "outputs": [],
   "source": [
    "# your code here"
   ]
  },
  {
   "cell_type": "markdown",
   "id": "bc59a5b5",
   "metadata": {},
   "source": [
    "<div class=\"alert alert-block alert-info\">\n",
    "<strong>Exercise:</strong> Create a scatter plot of hesitancy vs vaccination rates.\n",
    "</div>"
   ]
  },
  {
   "cell_type": "code",
   "execution_count": null,
   "id": "2e06c6db",
   "metadata": {},
   "outputs": [],
   "source": [
    "# your code here"
   ]
  },
  {
   "cell_type": "markdown",
   "id": "03e526bd",
   "metadata": {},
   "source": [
    "## Joining\n",
    "Now let's do a join.\n",
    "It looks like the county boundaries are in our original dataframe, but in a weird format. We could try and parse them. But instead, let's get the county boundaries and total population using the Census API and `pygris`. \n",
    "\n",
    "We'll just do one state, in order to reduce the sizes of the files for this exercise."
   ]
  },
  {
   "cell_type": "markdown",
   "id": "128c3cb0",
   "metadata": {},
   "source": [
    "<div class=\"alert alert-block alert-info\">\n",
    "<strong>Exercise:</strong> Get a geodataframe of the county boundaries and population totals for a state of your choice.\n",
    "</div>"
   ]
  },
  {
   "cell_type": "markdown",
   "id": "715551f4",
   "metadata": {},
   "source": [
    "*Hints*: \n",
    "* Look at the [examples](https://www.census.gov/data/developers/guidance/api-user-guide.Example_API_Queries.html) provided by the Census Bureau\n",
    "* You'll need to specify the state (e.g. \"California\") and the level (use \"county\"). So your API query will have some text like this: `for=county:*&in=state:06`\n",
    "* A small state will download faster! You don't have to do California (FIPS 06)\n",
    "* The population variable is B01001_001E\n",
    "* To download the country boundaries, you'll need `pygris.counties` rather than `pygris.tracts` (which we used before)"
   ]
  },
  {
   "cell_type": "code",
   "execution_count": null,
   "id": "59022053",
   "metadata": {},
   "outputs": [],
   "source": [
    "import requests\n",
    "import pandas as pd\n",
    "import pygris\n",
    "\n",
    "# add your code\n"
   ]
  },
  {
   "cell_type": "markdown",
   "id": "2784a282",
   "metadata": {},
   "source": [
    "You should now have `GEOID` as the index for your `censusDf`, as well as a geometry column."
   ]
  },
  {
   "cell_type": "markdown",
   "id": "5e6d730d",
   "metadata": {},
   "source": [
    "<div class=\"alert alert-block alert-info\">\n",
    "<strong>Exercise:</strong> Join the covid dataframe to your census dataframe.</div>"
   ]
  },
  {
   "cell_type": "markdown",
   "id": "44b21110",
   "metadata": {},
   "source": [
    "*Hints:*:\n",
    "* Look at which column gives the county FIPS code in each dataframe.\n",
    "* Do the data types match? Anything else you need to clean up before joining?\n",
    "* It might be helpful to do a left join from the census dataframe. That means that you will automatically drop the data for counties in other states."
   ]
  },
  {
   "cell_type": "code",
   "execution_count": null,
   "id": "6b9a8764",
   "metadata": {},
   "outputs": [],
   "source": [
    "# your code here"
   ]
  },
  {
   "cell_type": "markdown",
   "id": "041fefc9",
   "metadata": {},
   "source": [
    "<div class=\"alert alert-block alert-info\">\n",
    "<strong>Exercise:</strong> Create some county-level maps and other simple analyses.\n",
    "</div>"
   ]
  },
  {
   "cell_type": "markdown",
   "id": "73f6e1c6",
   "metadata": {},
   "source": [
    "The [geopandas documentation](https://geopandas.org/en/stable/docs/user_guide/mapping.html) has some useful tips.\n",
    "\n",
    "Hint: make sure your column is numeric before you plot it!"
   ]
  },
  {
   "cell_type": "code",
   "execution_count": null,
   "id": "5207199d",
   "metadata": {},
   "outputs": [],
   "source": [
    "# your code here"
   ]
  },
  {
   "cell_type": "markdown",
   "id": "a2818a26",
   "metadata": {},
   "source": [
    "<div class=\"alert alert-block alert-info\">\n",
    "<h3>What you should have learned</h3>\n",
    "<ul>\n",
    "  <li>Gain more practice with the APIs</li>\n",
    "  <li>Understand basic data cleaning operations, such as converting strings to numeric fields.</li>\n",
    "  <li>Understand how to compute group-level means and other summary statistics.</li>\n",
    "    <li>Understand how to join tables on a common column.</li>\n",
    "</ul>\n",
    "</div>"
   ]
  }
 ],
 "metadata": {
  "kernelspec": {
   "display_name": "Python 3 (ipykernel)",
   "language": "python",
   "name": "python3"
  },
  "language_info": {
   "codemirror_mode": {
    "name": "ipython",
    "version": 3
   },
   "file_extension": ".py",
   "mimetype": "text/x-python",
   "name": "python",
   "nbconvert_exporter": "python",
   "pygments_lexer": "ipython3",
   "version": "3.12.9"
  }
 },
 "nbformat": 4,
 "nbformat_minor": 5
}
