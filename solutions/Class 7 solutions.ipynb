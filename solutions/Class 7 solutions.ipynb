{
 "cells": [
  {
   "cell_type": "markdown",
   "id": "53fce03f",
   "metadata": {},
   "source": [
    "## Module 7 Class activities\n",
    "This notebook is a starting point for the exercises and activities that we'll do in class. We'll do an extension of the random forests classifier, looking at a continuous variable. Then, we'll do some cluster analysis.\n",
    "\n",
    "Before you attempt any of these activities, make sure to watch the video lectures for this module."
   ]
  },
  {
   "cell_type": "markdown",
   "id": "518387dd",
   "metadata": {},
   "source": [
    "We'll look at some k-means cluster analysis. The question: are there particular patterns of cruising for parking? You can see [my version of the analysis here](https://findingspress.org/article/28061-the-shape-of-cruising), joint with Robert Hampshire and Rachel Weinberger.\n",
    "\n",
    "The data file that replicate the analysis is in your data folder. There is one row for each cruising trip (derived from the final portion of a GPS trace, once a driver is assumed to start looking for parking.)\n",
    "\n",
    "You can load the data as follows."
   ]
  },
  {
   "cell_type": "code",
   "execution_count": 3,
   "id": "31ab8e5d",
   "metadata": {},
   "outputs": [],
   "source": [
    "import pandas as pd\n",
    "cruisingDf = pd.read_csv('../classes/data/cruising_shapes.csv')"
   ]
  },
  {
   "cell_type": "markdown",
   "id": "09baf9bb",
   "metadata": {},
   "source": [
    "<div class=\"alert alert-block alert-info\">\n",
    "<strong>Exercise:</strong> Replicate the analysis in Millard-Ball, Hampshire and Weinberger (2021). First, add each cluster label to the dataframe.</div>"
   ]
  },
  {
   "cell_type": "markdown",
   "id": "1a79648a",
   "metadata": {},
   "source": [
    "In the paper, we used 5 clusters and the following columns: `'matchdist', 'frc_repeat', 'n_crossings', 'convexhull_ratio', 'frc_right', 'frc_left', 'frc_uturn', 'frc_straight', 'n_turns'`\n",
    "\n",
    "* `matchdist` is path length (technically, the map-matched distance)\n",
    "* `frc_repeat` is the fraction of repeated blocks (a driver drives on them more than once while cruising for parking)\n",
    "* `n_crossings` is the number of times that the driver crosses over their path\n",
    "* `convexhull_ratio` is a measure of the compactness of the search area\n",
    "* `frc_right`, `frc_left`, `frc_uturn` and `frc_straight` are the fraction of times that the driver turns right or left, makes a U-turn, or continues straight at an intersection\n",
    "* `n_turns` is the number of turns in the cruising trace\n",
    "\n",
    "You'll need to:\n",
    "* standardize the variables\n",
    "* drop Null values\n",
    "* run the k-means algorithm\n",
    "* add the cluster labels back to your dataframe\n",
    "\n",
    "How many observations do you get in each cluster?"
   ]
  },
  {
   "cell_type": "code",
   "execution_count": 2,
   "id": "5dc7705e",
   "metadata": {},
   "outputs": [
    {
     "ename": "NameError",
     "evalue": "name 'cruisingDf' is not defined",
     "output_type": "error",
     "traceback": [
      "\u001b[31m---------------------------------------------------------------------------\u001b[39m",
      "\u001b[31mNameError\u001b[39m                                 Traceback (most recent call last)",
      "\u001b[36mCell\u001b[39m\u001b[36m \u001b[39m\u001b[32mIn[2]\u001b[39m\u001b[32m, line 6\u001b[39m\n\u001b[32m      4\u001b[39m \u001b[38;5;66;03m# your code here\u001b[39;00m\n\u001b[32m      5\u001b[39m cols = [\u001b[33m'\u001b[39m\u001b[33mmatchdist\u001b[39m\u001b[33m'\u001b[39m, \u001b[33m'\u001b[39m\u001b[33mfrc_repeat\u001b[39m\u001b[33m'\u001b[39m, \u001b[33m'\u001b[39m\u001b[33mn_crossings\u001b[39m\u001b[33m'\u001b[39m, \u001b[33m'\u001b[39m\u001b[33mconvexhull_ratio\u001b[39m\u001b[33m'\u001b[39m, \u001b[33m'\u001b[39m\u001b[33mfrc_right\u001b[39m\u001b[33m'\u001b[39m, \u001b[33m'\u001b[39m\u001b[33mfrc_left\u001b[39m\u001b[33m'\u001b[39m, \u001b[33m'\u001b[39m\u001b[33mfrc_uturn\u001b[39m\u001b[33m'\u001b[39m, \u001b[33m'\u001b[39m\u001b[33mfrc_straight\u001b[39m\u001b[33m'\u001b[39m, \u001b[33m'\u001b[39m\u001b[33mn_turns\u001b[39m\u001b[33m'\u001b[39m]\n\u001b[32m----> \u001b[39m\u001b[32m6\u001b[39m scaler = preprocessing.StandardScaler().fit(\u001b[43mcruisingDf\u001b[49m[cols])\n\u001b[32m      7\u001b[39m df_scaled = pd.DataFrame(scaler.transform(cruisingDf[cols]), \n\u001b[32m      8\u001b[39m                          columns=cols, index=cruisingDf.index)\n\u001b[32m     10\u001b[39m kmeans = KMeans(n_clusters=\u001b[32m5\u001b[39m, random_state=\u001b[32m1\u001b[39m).fit(df_scaled)\n",
      "\u001b[31mNameError\u001b[39m: name 'cruisingDf' is not defined"
     ]
    }
   ],
   "source": [
    "from sklearn.cluster import KMeans\n",
    "from sklearn import preprocessing\n",
    "\n",
    "# your code here\n",
    "cols = ['matchdist', 'frc_repeat', 'n_crossings', 'convexhull_ratio', 'frc_right', 'frc_left', 'frc_uturn', 'frc_straight', 'n_turns']\n",
    "scaler = preprocessing.StandardScaler().fit(cruisingDf[cols])\n",
    "df_scaled = pd.DataFrame(scaler.transform(cruisingDf[cols]), \n",
    "                         columns=cols, index=cruisingDf.index)\n",
    "\n",
    "kmeans = KMeans(n_clusters=5, random_state=1).fit(df_scaled)\n",
    "\n",
    "df_scaled['cluster_id'] = kmeans.labels_\n",
    "df_scaled.groupby('cluster_id').size()"
   ]
  },
  {
   "cell_type": "markdown",
   "id": "c12b299e",
   "metadata": {},
   "source": [
    "<div class=\"alert alert-block alert-info\">\n",
    "<strong>Exercise:</strong> Create a radar plot of your clusters.</div>"
   ]
  },
  {
   "cell_type": "markdown",
   "id": "9132fa03",
   "metadata": {},
   "source": [
    "Here's the function to create the radar chart, which we used in the video lecture.\n",
    "\n",
    "It takes two arguments: the `kmeans` object created by `KMeans`, and your standardized dataframe."
   ]
  },
  {
   "cell_type": "code",
   "execution_count": null,
   "id": "185c92ab",
   "metadata": {},
   "outputs": [],
   "source": [
    "# code from https://matplotlib.org/stable/gallery/specialty_plots/radar_chart.html\n",
    "\n",
    "import numpy as np\n",
    "\n",
    "import matplotlib.pyplot as plt\n",
    "from matplotlib.patches import Circle, RegularPolygon\n",
    "from matplotlib.path import Path\n",
    "from matplotlib.projections.polar import PolarAxes\n",
    "from matplotlib.projections import register_projection\n",
    "from matplotlib.spines import Spine\n",
    "from matplotlib.transforms import Affine2D\n",
    "\n",
    "\n",
    "def radar_factory(num_vars, frame='circle'):\n",
    "    \"\"\"\n",
    "    Create a radar chart with `num_vars` axes.\n",
    "\n",
    "    This function creates a RadarAxes projection and registers it.\n",
    "\n",
    "    Parameters\n",
    "    ----------\n",
    "    num_vars : int\n",
    "        Number of variables for radar chart.\n",
    "    frame : {'circle', 'polygon'}\n",
    "        Shape of frame surrounding axes.\n",
    "\n",
    "    \"\"\"\n",
    "    # calculate evenly-spaced axis angles\n",
    "    theta = np.linspace(0, 2*np.pi, num_vars, endpoint=False)\n",
    "\n",
    "    class RadarAxes(PolarAxes):\n",
    "\n",
    "        name = 'radar'\n",
    "        # use 1 line segment to connect specified points\n",
    "        RESOLUTION = 1\n",
    "\n",
    "        def __init__(self, *args, **kwargs):\n",
    "            super().__init__(*args, **kwargs)\n",
    "            # rotate plot such that the first axis is at the top\n",
    "            self.set_theta_zero_location('N')\n",
    "\n",
    "        def fill(self, *args, closed=True, **kwargs):\n",
    "            \"\"\"Override fill so that line is closed by default\"\"\"\n",
    "            return super().fill(closed=closed, *args, **kwargs)\n",
    "\n",
    "        def plot(self, *args, **kwargs):\n",
    "            \"\"\"Override plot so that line is closed by default\"\"\"\n",
    "            lines = super().plot(*args, **kwargs)\n",
    "            for line in lines:\n",
    "                self._close_line(line)\n",
    "\n",
    "        def _close_line(self, line):\n",
    "            x, y = line.get_data()\n",
    "            # FIXME: markers at x[0], y[0] get doubled-up\n",
    "            if x[0] != x[-1]:\n",
    "                x = np.append(x, x[0])\n",
    "                y = np.append(y, y[0])\n",
    "                line.set_data(x, y)\n",
    "\n",
    "        def set_varlabels(self, labels):\n",
    "            self.set_thetagrids(np.degrees(theta), labels)\n",
    "\n",
    "        def _gen_axes_patch(self):\n",
    "            # The Axes patch must be centered at (0.5, 0.5) and of radius 0.5\n",
    "            # in axes coordinates.\n",
    "            if frame == 'circle':\n",
    "                return Circle((0.5, 0.5), 0.5)\n",
    "            elif frame == 'polygon':\n",
    "                return RegularPolygon((0.5, 0.5), num_vars,\n",
    "                                      radius=.5, edgecolor=\"k\")\n",
    "            else:\n",
    "                raise ValueError(\"Unknown value for 'frame': %s\" % frame)\n",
    "\n",
    "        def _gen_axes_spines(self):\n",
    "            if frame == 'circle':\n",
    "                return super()._gen_axes_spines()\n",
    "            elif frame == 'polygon':\n",
    "                # spine_type must be 'left'/'right'/'top'/'bottom'/'circle'.\n",
    "                spine = Spine(axes=self,\n",
    "                              spine_type='circle',\n",
    "                              path=Path.unit_regular_polygon(num_vars))\n",
    "                # unit_regular_polygon gives a polygon of radius 1 centered at\n",
    "                # (0, 0) but we want a polygon of radius 0.5 centered at (0.5,\n",
    "                # 0.5) in axes coordinates.\n",
    "                spine.set_transform(Affine2D().scale(.5).translate(.5, .5)\n",
    "                                    + self.transAxes)\n",
    "                return {'polar': spine}\n",
    "            else:\n",
    "                raise ValueError(\"Unknown value for 'frame': %s\" % frame)\n",
    "\n",
    "    register_projection(RadarAxes)\n",
    "    return theta\n",
    "\n",
    "def radar_plot(kmeans, df_scaled):\n",
    "    N  = kmeans.cluster_centers_.shape[1]  # number of columns / variables\n",
    "    k = kmeans.n_clusters\n",
    "    theta = radar_factory(N, frame='polygon')\n",
    "    data = kmeans.cluster_centers_.T\n",
    "    spoke_labels = [col for col in df_scaled.columns if col!='cluster_id']\n",
    "    fig, ax = plt.subplots(figsize=(9, 9),\n",
    "                                subplot_kw=dict(projection='radar'))\n",
    "    fig.subplots_adjust(wspace=0.25, hspace=0.20, top=0.85, bottom=0.05)\n",
    "\n",
    "    ax.plot(theta, data) #, color=color)\n",
    "    ax.set_varlabels(spoke_labels)\n",
    "\n",
    "    # add legend relative to top-left plot\n",
    "    labels = ['Cluster {}'.format(kk) for kk in range(k)]\n",
    "    ax.legend(labels, loc=(0.9, .95),\n",
    "                                labelspacing=0.1, fontsize='small')\n",
    "    \n",
    "# your code here\n",
    "radar_plot(kmeans, df_scaled)"
   ]
  },
  {
   "cell_type": "markdown",
   "id": "8069be75",
   "metadata": {},
   "source": [
    "<div class=\"alert alert-block alert-info\">\n",
    "<strong>Exercise:</strong> Experiment with different values of k (number of clusters), and using different columns.</div>"
   ]
  },
  {
   "cell_type": "code",
   "execution_count": null,
   "id": "1f96e2e6",
   "metadata": {},
   "outputs": [],
   "source": [
    "# your code here"
   ]
  },
  {
   "cell_type": "markdown",
   "id": "e6b1b7fd",
   "metadata": {},
   "source": [
    "<div class=\"alert alert-block alert-info\">\n",
    "<strong>Exercise:</strong> The dataframe comes with x and y coordinates. Use them to identify any spatial clusters of cruising trips in San Francisco.</div>"
   ]
  },
  {
   "cell_type": "code",
   "execution_count": null,
   "id": "2ae74ea8",
   "metadata": {},
   "outputs": [],
   "source": [
    "# your code here\n",
    "cols = ['x','y']\n",
    "\n",
    "# let's not standardize, because we are working with latitude and longitude\n",
    "# so the variables are already on (roughly) the same scale\n",
    "#scaler = preprocessing.StandardScaler().fit(cruisingDf[cols])\n",
    "#df_scaled = pd.DataFrame(scaler.transform(cruisingDf[cols]), \n",
    "#                         columns=cols, index=cruisingDf.index)\n",
    "\n",
    "# restrict to San Francisco (otherwise we'll end up with a cluster in Ann Arbor)\n",
    "sfDf = cruisingDf[cruisingDf.sf==True][cols].dropna()\n",
    "\n",
    "# you can rerun this several times (through the map below) with different numbers of k\n",
    "kmeans = KMeans(n_clusters=20, random_state=1).fit(sfDf)\n",
    "\n",
    "sfDf['cluster_id'] = kmeans.labels_"
   ]
  },
  {
   "cell_type": "code",
   "execution_count": null,
   "id": "c48526c4",
   "metadata": {},
   "outputs": [],
   "source": [
    "# these are the long/lat of our cluster centers\n",
    "kmeans.cluster_centers_"
   ]
  },
  {
   "cell_type": "code",
   "execution_count": null,
   "id": "f367f349",
   "metadata": {},
   "outputs": [],
   "source": [
    "# create a geoDataFrame with just the geometry\n",
    "import geopandas as gpd\n",
    "centers = gpd.GeoDataFrame(geometry=\n",
    "            gpd.points_from_xy(kmeans.cluster_centers_[:,0], \n",
    "                               kmeans.cluster_centers_[:,1]),\n",
    "                          crs ='EPSG:4326')\n",
    "\n",
    "# we could have done this in two steps, which might be easier to read\n",
    "centers = pd.DataFrame(kmeans.cluster_centers_, columns=['lon','lat'])\n",
    "centers = gpd.GeoDataFrame(geometry=\n",
    "            gpd.points_from_xy(centers['lon'], \n",
    "                               centers['lat']),\n",
    "                          crs ='EPSG:4326')"
   ]
  },
  {
   "cell_type": "code",
   "execution_count": null,
   "id": "6e9aade7",
   "metadata": {},
   "outputs": [],
   "source": [
    "# check it looks ok\n",
    "centers.head()"
   ]
  },
  {
   "cell_type": "code",
   "execution_count": null,
   "id": "ab53a1ea",
   "metadata": {},
   "outputs": [],
   "source": [
    "# create a geodataframe of the cruising points (so we can plot them as well)\n",
    "cruisingGdf = gpd.GeoDataFrame(sfDf, \n",
    "                geometry=gpd.points_from_xy(sfDf.x, sfDf.y,\n",
    "                    crs='EPSG:4326'))"
   ]
  },
  {
   "cell_type": "code",
   "execution_count": null,
   "id": "195ad230",
   "metadata": {},
   "outputs": [],
   "source": [
    "import matplotlib.pyplot as plt\n",
    "import contextily as ctx\n",
    "fig, ax= plt.subplots(figsize=(10,10))\n",
    "\n",
    "# plot the cluster centers with a large marker\n",
    "centers.plot(ax=ax, markersize=100)\n",
    "\n",
    "# plot the individual points with a small marker, and a different color for each cluster_id\n",
    "cruisingGdf.plot(ax=ax, markersize=0.1, column='cluster_id')\n",
    "ctx.add_basemap(ax=ax, crs='EPSG:4326', alpha=0.2)"
   ]
  },
  {
   "cell_type": "markdown",
   "id": "a2818a26",
   "metadata": {},
   "source": [
    "<div class=\"alert alert-block alert-info\">\n",
    "<h3>What you should have learned</h3>\n",
    "<ul>\n",
    "  <li>Get more practice with standardizing data.</li>\n",
    "  <li>Learn how to estimate a k-means cluster analysis.</li>\n",
    "</ul>\n",
    "</div>"
   ]
  }
 ],
 "metadata": {
  "kernelspec": {
   "display_name": "Python 3 (ipykernel)",
   "language": "python",
   "name": "python3"
  },
  "language_info": {
   "codemirror_mode": {
    "name": "ipython",
    "version": 3
   },
   "file_extension": ".py",
   "mimetype": "text/x-python",
   "name": "python",
   "nbconvert_exporter": "python",
   "pygments_lexer": "ipython3",
   "version": "3.12.9"
  }
 },
 "nbformat": 4,
 "nbformat_minor": 5
}
