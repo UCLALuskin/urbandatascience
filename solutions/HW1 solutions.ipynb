{
 "cells": [
  {
   "cell_type": "markdown",
   "id": "6d780961",
   "metadata": {
    "nbgrader": {
     "grade": false,
     "grade_id": "cell-ffa0b2b6e490112c",
     "locked": true,
     "schema_version": 3,
     "solution": false,
     "task": false
    }
   },
   "source": [
    "# Assignment 1 - APIs"
   ]
  },
  {
   "cell_type": "markdown",
   "id": "cosmetic-capitol",
   "metadata": {
    "nbgrader": {
     "grade": false,
     "grade_id": "cell-a9bbc5bec41c60c0",
     "locked": true,
     "schema_version": 3,
     "solution": false,
     "task": false
    }
   },
   "source": [
    "<div class=\"alert alert-block alert-info\">\n",
    "<p>I've set this up as a partially autograded assignment.</p>\n",
    " \n",
    "<p>The points grading is mainly for you to see where you are going right and going wrong, and to tell me where to take a closer look. You won't be penalized just because your output doesn't match what the autograder expects.</p>\n",
    "    \n",
    "<p>In practice, I'll grade holistically rather than a question-by-question basis, using a check, check- and check+ scale.</p>\n",
    "</div>"
   ]
  },
  {
   "cell_type": "markdown",
   "id": "0e233910",
   "metadata": {
    "nbgrader": {
     "grade": false,
     "grade_id": "cell-1a12697748d867fb",
     "locked": true,
     "schema_version": 3,
     "solution": false,
     "task": false
    }
   },
   "source": [
    "Please help me grade by observing the following:\n",
    " \n",
    "* Do not rename this notebook (that messes up the autograder)\n",
    "* Do not include large sections of output (that makes it hard to find your code). For example, use `df.head()` to show the first few rows, rather than printing an entire dataframe. The same goes for printing long strings."
   ]
  },
  {
   "cell_type": "markdown",
   "id": "d76fdf72-47d9-4362-8a3d-2808a5654749",
   "metadata": {
    "nbgrader": {
     "grade": false,
     "grade_id": "cell-dfbd71da591fb91b",
     "locked": true,
     "schema_version": 3,
     "solution": false,
     "task": false
    }
   },
   "source": [
    "### Policy on ChatGPT and similar LLMs\n",
    "\n",
    "ChatGPT and similar tools can be useful in trying to figure out the syntax for a complex command, or to understand and fix an error. However, if you jump directly to ChatGPT for an answer, that means you aren't learning anything. \n",
    "\n",
    "Therefore, you may you use ChatGPT or a similar tool for this homework if you:\n",
    "- clearly acknowledge when and how you used the tool (e.g., \"I got a syntax error when trying to join the two dataframes, and asked ChatGPT for help\")\n",
    "- attempt the question on your own first, and try to fix any errors. Include your original attempts in your submission (you can comment out the lines that don't work)\n",
    "- briefly discuss what you learned from ChatGPT (e.g., \"I learned that function definitions need a colon (:) after the def statement.\"). Don't just uncritically accept ChatGPT's answer - learn from it!\n",
    "\n",
    "If you have any questions, talk to the instructor before you submit."
   ]
  },
  {
   "cell_type": "markdown",
   "id": "56a40542",
   "metadata": {
    "nbgrader": {
     "grade": false,
     "grade_id": "cell-16e8d0e9c7f10b97",
     "locked": true,
     "schema_version": 3,
     "solution": false,
     "task": false
    }
   },
   "source": [
    "### Start of homework assignment\n",
    "What is your name (it's not always easy to match your GitHub account name to you.)"
   ]
  },
  {
   "cell_type": "markdown",
   "id": "f8a534e3",
   "metadata": {
    "nbgrader": {
     "grade": true,
     "grade_id": "cell-b917c12e3892461a",
     "locked": false,
     "points": 0,
     "schema_version": 3,
     "solution": true,
     "task": false
    }
   },
   "source": []
  },
  {
   "cell_type": "markdown",
   "id": "7393a9ac",
   "metadata": {
    "nbgrader": {
     "grade": false,
     "grade_id": "cell-4a8944d9bfeea14d",
     "locked": true,
     "schema_version": 3,
     "solution": false,
     "task": false
    }
   },
   "source": [
    "We saw the [BART API](http://api.bart.gov/docs/overview/index.aspx) in class. \n",
    "\n",
    "The first question asks you to extract some station information from the API.\n",
    "\n",
    "Create a pandas dataframe (call it `stationdf`) of all stations, including their name, lat/lon, and the other information that is returned from the station information API.\n",
    "\n"
   ]
  },
  {
   "cell_type": "code",
   "execution_count": null,
   "id": "afd391d3",
   "metadata": {
    "nbgrader": {
     "grade": false,
     "grade_id": "cell-45e4f11b01b5781f",
     "locked": false,
     "schema_version": 3,
     "solution": true,
     "task": false
    }
   },
   "outputs": [],
   "source": [
    "# You'll need a few lines of code that looks something like this\n",
    "stationdf = 999 # replace 999 with your code here\n",
    "print(stationdf)\n",
    "\n",
    "### BEGIN SOLUTION\n",
    "import json\n",
    "import pandas as pd\n",
    "import requests\n",
    "\n",
    "APIkey = 'XXXXX'  # enter your API key \n",
    "\n",
    "# look for station codes\n",
    "requestString = 'http://api.bart.gov/api/stn.aspx?cmd=stns&key={}&json=y'.format(APIkey)\n",
    "\n",
    "# looking step by step at the output, \n",
    "# we see that the information is nested first in root, \n",
    "# then in stations, then in station\n",
    "\n",
    "r = requests.get(requestString)\n",
    "d = json.loads(r.text)\n",
    "stns = d['root']['stations']['station']\n",
    "\n",
    "# convert to a dataframe\n",
    "stationdf = pd.DataFrame(stns)\n",
    "### END SOLUTION"
   ]
  },
  {
   "cell_type": "code",
   "execution_count": null,
   "id": "b86f33af",
   "metadata": {
    "nbgrader": {
     "grade": true,
     "grade_id": "cell-e1c6283b2cb1a12a",
     "locked": true,
     "points": 1,
     "schema_version": 3,
     "solution": false,
     "task": false
    }
   },
   "outputs": [],
   "source": [
    "# Autograding tests - do not edit\n",
    "print(stationdf.head())\n",
    "assert len(stationdf) == 50\n",
    "assert '12th St. Oakland City Center' in stationdf.name.values"
   ]
  },
  {
   "cell_type": "markdown",
   "id": "1c48c0de",
   "metadata": {
    "nbgrader": {
     "grade": false,
     "grade_id": "cell-70c0aa4a5275a6d2",
     "locked": true,
     "schema_version": 3,
     "solution": false,
     "task": false
    }
   },
   "source": [
    "What is the regular fare from Millbrae to Richmond? \n",
    "\n",
    "Extract the result from the API and store it in a variable called `fare`.\n",
    "\n",
    "*Hint*: Look at your answer to the previous question to see the codes of each station.\n"
   ]
  },
  {
   "cell_type": "code",
   "execution_count": null,
   "id": "17496aee",
   "metadata": {
    "nbgrader": {
     "grade": false,
     "grade_id": "cell-6a4d67a7c76590ee",
     "locked": false,
     "schema_version": 3,
     "solution": true,
     "task": false
    }
   },
   "outputs": [],
   "source": [
    "# your code here\n",
    "fare = 999 # replace with your answer\n",
    "print('The fare is ${}'.format(fare))\n",
    "\n",
    "### BEGIN SOLUTION\n",
    "\n",
    "# to be clever, we'd extract the station names directly from the station dataframe\n",
    "orig, dest = 'MLBR', 'RICH'\n",
    "\n",
    "requestString = 'http://api.bart.gov/api/sched.aspx?cmd=fare&key={}&orig={}&dest={}&json=y'.format(APIkey, orig, dest)\n",
    "r = requests.get(requestString)\n",
    "d = json.loads(r.text)\n",
    "\n",
    "# Looking at d, the fare is buried down in root, then in trip, then in fare\n",
    "fare = d['root']['trip']['fare']\n",
    "print('The fare is ${}'.format(fare))\n",
    "### END SOLUTION\n"
   ]
  },
  {
   "cell_type": "code",
   "execution_count": null,
   "id": "4e95db2a",
   "metadata": {
    "nbgrader": {
     "grade": true,
     "grade_id": "cell-2ec88c2426c0ccfe",
     "locked": true,
     "points": 1,
     "schema_version": 3,
     "solution": false,
     "task": false
    }
   },
   "outputs": [],
   "source": [
    "# Autograding tests - do not edit\n",
    "print(fare)\n",
    "assert float(fare) == 7.3"
   ]
  },
  {
   "cell_type": "markdown",
   "id": "a27f26c2",
   "metadata": {
    "nbgrader": {
     "grade": false,
     "grade_id": "cell-b0109977155637d5",
     "locked": true,
     "schema_version": 3,
     "solution": false,
     "task": false
    }
   },
   "source": [
    "Now, create a function that will return the fare to Millbrae from any station.\n",
    "\n",
    "Call your function `millbrae_fare()`. It should have one argument, `orig`, and return the fare.\n",
    "\n",
    "*Hint*: Use all your code to the answer above, but indent it and put it in a function. Then, use the variable `orig` instead of your hard-coded station code for Richmond."
   ]
  },
  {
   "cell_type": "code",
   "execution_count": null,
   "id": "44e42d94",
   "metadata": {
    "nbgrader": {
     "grade": false,
     "grade_id": "cell-bc116426b3eeb068",
     "locked": false,
     "schema_version": 3,
     "solution": true,
     "task": false
    }
   },
   "outputs": [],
   "source": [
    "### your code here\n",
    "\n",
    "def millbrae_fare(orig):\n",
    "    # contents of your function here\n",
    "    fare = 999 # replace with your code here\n",
    "    return fare\n",
    "\n",
    "# example\n",
    "print('Fare from Civic Center to Millbrae is ${}'.format(millbrae_fare('CIVC')))\n",
    "\n",
    "### BEGIN SOLUTION\n",
    "def millbrae_fare(orig):\n",
    "    dest = 'MLBR'\n",
    "    requestString = 'http://api.bart.gov/api/sched.aspx?cmd=fare&key={}&orig={}&dest={}&json=y'.format(APIkey, orig, dest)\n",
    "    r = requests.get(requestString)\n",
    "    d = json.loads(r.text)\n",
    "    fare = d['root']['trip']['fare']\n",
    "    return fare\n",
    "print('Fare from Richmond to Millbrae is ${}'.format(millbrae_fare('RICH')))\n",
    "\n",
    "### END SOLUTION"
   ]
  },
  {
   "cell_type": "code",
   "execution_count": null,
   "id": "e4423ca1",
   "metadata": {
    "nbgrader": {
     "grade": true,
     "grade_id": "cell-f54c2750669f713a",
     "locked": true,
     "points": 1,
     "schema_version": 3,
     "solution": false,
     "task": false
    }
   },
   "outputs": [],
   "source": [
    "# Autograding tests - do not edit\n",
    "print(millbrae_fare('RICH'), millbrae_fare('WARM'))\n",
    "assert str(millbrae_fare('RICH')) == '7.30'\n",
    "assert str(millbrae_fare('WARM')) == '9.65'"
   ]
  },
  {
   "cell_type": "markdown",
   "id": "governing-sharing",
   "metadata": {
    "nbgrader": {
     "grade": false,
     "grade_id": "cell-b7ef16bd80fc7a66",
     "locked": true,
     "schema_version": 3,
     "solution": false,
     "task": false
    }
   },
   "source": [
    "In the second part of the homework, let's look at getting census data through the Census API.\n",
    "\n",
    "The variables available through the API for the 2023 1-year ACS <a href=\"https://api.census.gov/data/2023/acs/acs1/variables.html\">are listed here</a>. Take 15 minutes to explore what variables and tables are available.\n",
    "\n",
    "Query the API to obtain MEDIAN HOUSEHOLD INCOME for all households (i.e., not disaggregated by race and ethnicity) at the **state** level. Store the results in a pandas dataframe called `incomedf`. Rename the column that holds the income data to `median_hh_income`."
   ]
  },
  {
   "cell_type": "code",
   "execution_count": null,
   "id": "bizarre-latex",
   "metadata": {
    "nbgrader": {
     "grade": false,
     "grade_id": "cell-dbe0d202fb6d1ed3",
     "locked": false,
     "schema_version": 3,
     "solution": true,
     "task": false
    }
   },
   "outputs": [],
   "source": [
    "# You'll need a few lines of code that looks something like this\n",
    "incomedf = 999 # replace 999 with your code here\n",
    "print(incomedf)\n",
    "\n",
    "### BEGIN SOLUTION\n",
    "import json\n",
    "import requests\n",
    "import pandas as pd\n",
    "\n",
    "r = requests.get('https://api.census.gov/data/2023/acs/acs1?get=NAME,B19013_001E&for=state', params={'key':'6ca3d9bff2bba551415a0d0ca00b4b9bbb04f854'})\n",
    "censusdata = r.json()\n",
    "incomedf = pd.DataFrame(censusdata[1:], columns=censusdata[0])\n",
    "incomedf.rename(columns={'B19013_001E':'median_hh_income'}, inplace=True)\n",
    "incomedf.median_hh_income = incomedf.median_hh_income.astype(int)\n",
    "print(incomedf.head())\n",
    "\n",
    "### END SOLUTION"
   ]
  },
  {
   "cell_type": "code",
   "execution_count": null,
   "id": "apparent-bundle",
   "metadata": {
    "nbgrader": {
     "grade": true,
     "grade_id": "cell-486ae2bfd6a95582",
     "locked": true,
     "points": 1,
     "schema_version": 3,
     "solution": false,
     "task": false
    }
   },
   "outputs": [],
   "source": [
    "# Autograding tests - do not edit\n",
    "assert len(incomedf) == 52 # there should be 52 states, including DC and Puerto Rico\n",
    "assert incomedf.loc[incomedf.state=='06','median_hh_income'].astype(int).values==95521"
   ]
  },
  {
   "cell_type": "markdown",
   "id": "central-cable",
   "metadata": {
    "nbgrader": {
     "grade": false,
     "grade_id": "cell-b541fd247b12e126",
     "locked": true,
     "schema_version": 3,
     "solution": false,
     "task": false
    }
   },
   "source": [
    "What's the average (mean) of these state-level median incomes? Store the mean in a variable called `mean_income`."
   ]
  },
  {
   "cell_type": "code",
   "execution_count": null,
   "id": "fa30a7cb-7177-4459-8cd6-4edcf20e11f6",
   "metadata": {
    "nbgrader": {
     "grade": false,
     "grade_id": "cell-aa5481ff11ffee8a",
     "locked": false,
     "schema_version": 3,
     "solution": true,
     "task": false
    }
   },
   "outputs": [],
   "source": [
    "mean_income = 999 # your code here\n",
    "\n",
    "### BEGIN SOLUTION\n",
    "mean_income = incomedf.median_hh_income.astype(float).mean()\n",
    "### END SOLUTION"
   ]
  },
  {
   "cell_type": "code",
   "execution_count": null,
   "id": "adbab52e-2bd5-4b43-b4a9-5fe00ce6fcc3",
   "metadata": {
    "nbgrader": {
     "grade": true,
     "grade_id": "cell-fab3e2515e4d27fb",
     "locked": true,
     "points": 1,
     "schema_version": 3,
     "solution": false,
     "task": false
    }
   },
   "outputs": [],
   "source": [
    "# Autograding tests - do not edit\n",
    "assert mean_income.round() == 76590\n",
    "print(mean_income)"
   ]
  },
  {
   "cell_type": "markdown",
   "id": "234dbd2c-1d3c-431e-91af-c27ff89a80b7",
   "metadata": {
    "nbgrader": {
     "grade": false,
     "grade_id": "cell-5bda1ade7e02a8cc",
     "locked": true,
     "schema_version": 3,
     "solution": false,
     "task": false
    }
   },
   "source": [
    "Now, let's map these results. Using `pygris`, add the state boundaries to your dataframe. Keep the name as `incomedf`.\n",
    "\n",
    "If `pygris` is still not working, you can use the workaround in the solutions to the Class 1 notebook - download the boundary file to your computer and use the `read_file` function in `geopandas` to load it in.\n"
   ]
  },
  {
   "cell_type": "code",
   "execution_count": null,
   "id": "operating-murder",
   "metadata": {
    "nbgrader": {
     "grade": false,
     "grade_id": "cell-1f3eb3b3b82e32c2",
     "locked": false,
     "schema_version": 3,
     "solution": true,
     "task": false
    }
   },
   "outputs": [],
   "source": [
    "# your code here\n",
    "\n",
    "### BEGIN SOLUTION\n",
    "import pygris\n",
    "import geopandas as gpd\n",
    "try:\n",
    "    states = pygris.states(year=2023)\n",
    "except:\n",
    "    states = gpd.read_file('/Users/adammb/Downloads/tl_2024_us_state')\n",
    "    states.set_index('STATEFP', inplace=True)\n",
    "    states.index.name='state'\n",
    "\n",
    "incomedf = states[['geometry']].join(incomedf.set_index('state'))\n",
    "print(incomedf.head())\n",
    "### END SOLUTION\n"
   ]
  },
  {
   "cell_type": "code",
   "execution_count": null,
   "id": "egyptian-playlist",
   "metadata": {
    "nbgrader": {
     "grade": true,
     "grade_id": "cell-4d09e83a255d0b6a",
     "locked": true,
     "points": 1,
     "schema_version": 3,
     "solution": false,
     "task": false
    }
   },
   "outputs": [],
   "source": [
    "# Autograding tests - do not edit\n",
    "assert 'geometry' in incomedf.columns"
   ]
  },
  {
   "cell_type": "markdown",
   "id": "final-samba",
   "metadata": {
    "nbgrader": {
     "grade": false,
     "grade_id": "cell-2b01908faf5b8ab6",
     "locked": true,
     "schema_version": 3,
     "solution": false,
     "task": false
    }
   },
   "source": [
    "Finally, plot median household income at the state level. Include a basemap using `contextily` (follow the example from class).\n",
    "\n",
    "If you are inclined, see if you can figure out some of the other `contextily` and plotting options, such as transparency (alpha), colormaps, zoom levels, and so on.\n",
    "\n",
    "*Hint:* You will probably want to restrict to the continental US, for clarity. You could try something like:\n",
    "\n",
    "`incomedf = incomedf[pd.notnull(incomedf['NAME'])] # drops geographies with Null names`\n",
    "`incomedf = incomedf[~incomedf['NAME'].isin(['Hawaii','Alaska','Puerto Rico'])] # drops geographies with these names`\n",
    "\n",
    "or\n",
    "\n",
    "`incomedf = incomedf[incomedf.state.astype(int)<60] # drops where the fips code is >=60`"
   ]
  },
  {
   "cell_type": "code",
   "execution_count": null,
   "id": "meaningful-spanish",
   "metadata": {
    "nbgrader": {
     "grade": true,
     "grade_id": "cell-69ed616ce7674fdb",
     "locked": false,
     "points": 2,
     "schema_version": 3,
     "solution": true,
     "task": false
    }
   },
   "outputs": [],
   "source": [
    "import matplotlib.pyplot as plt\n",
    "import contextily as ctx\n",
    "\n",
    "# your code here\n",
    "\n",
    "### BEGIN SOLUTION\n",
    "fig, ax = plt.subplots(figsize=(10,5))\n",
    "incomedf = incomedf[pd.notnull(incomedf['NAME'])] \n",
    "incomedf = incomedf[~incomedf['NAME'].isin(['Hawaii','Alaska','Puerto Rico'])]\n",
    "incomedf.to_crs('3857').plot('median_hh_income', ax=ax, cmap='plasma', legend=True)\n",
    "\n",
    "ctx.add_basemap(ax)\n",
    "\n",
    "# and we really don't need the axis ticks and labels, so we set them to an empty list\n",
    "ax.set_xticks([])\n",
    "ax.set_yticks([])\n",
    "ax.set_title('Median Household Income')\n",
    "\n",
    "fig.savefig('/Users/adammb/Desktop/usincome.jpg')\n",
    "### END SOLUTION"
   ]
  },
  {
   "attachments": {
    "f0281060-f1c6-4a9f-b275-3a45dfaaf549.jpg": {
     "image/jpeg": "[encoded data removed]"
    }
   },
   "cell_type": "markdown",
   "id": "demanding-rebel",
   "metadata": {
    "nbgrader": {
     "grade": false,
     "grade_id": "cell-a9f869d00536e8d8",
     "locked": true,
     "schema_version": 3,
     "solution": false,
     "task": false
    }
   },
   "source": [
    "Your final product should look something like this, although if you are inclined, you could do a better job in arranging the color bar, adjusting the transparency and other settings, etc.\n",
    "![usincome.jpg](attachment:f0281060-f1c6-4a9f-b275-3a45dfaaf549.jpg)"
   ]
  },
  {
   "cell_type": "markdown",
   "id": "70ebf751",
   "metadata": {
    "nbgrader": {
     "grade": false,
     "grade_id": "cell-4b7bb3c7dde69e20",
     "locked": true,
     "schema_version": 3,
     "solution": false,
     "task": false
    }
   },
   "source": [
    "# Challenge Problem\n",
    "Remember, you need to do at least two of these challenge problems during the quarter.\n",
    "\n",
    "Look at the US EPA [AirNow API](https://docs.airnowapi.org). You'll need to register for your own API key - click on Log In and follow the steps to request an account. You'll get your key within a minute.\n",
    "\n",
    "Once you a logged in, look at the Web Services, and then Observations by Monitoring Site. If you click on the Query Tool, you can build up a query in the point-and-click interface. This will help you understand the API syntax.\n",
    "\n",
    "Back in Python, use the `requests` library to get all the data for PM 2.5 for each day in 2023 for a city or county of your choice (you might have to play around with the bounding box). Note that Los Angeles County will probably be too big, so choose another county or a part of LA. \n",
    "\n",
    "Return this data as a pandas dataframe.\n",
    "\n",
    "Put this in a function that takes at least one argument. For example, you could write a function where you pass the year, or the pollutant type. Your function should return a dataframe with the results of your API query.\n",
    "\n",
    "Then, map or plot the data in whatever way you choose (e.g. boxplots or line charts of pollution levels). \n",
    "\n",
    "If you want to map it, [here's some advice on how to convert a pandas dataframe into a geodataframe](https://geopandas.org/en/stable/gallery/create_geopandas_from_pandas.html), using the lat and lon columns returned by the API.                                                                           \n",
    "\n"
   ]
  },
  {
   "cell_type": "code",
   "execution_count": null,
   "id": "e48f1fbd",
   "metadata": {
    "nbgrader": {
     "grade": true,
     "grade_id": "cell-27cd0daa543bec80",
     "locked": false,
     "points": 0,
     "schema_version": 3,
     "solution": true,
     "task": false
    }
   },
   "outputs": [],
   "source": [
    "# your code here"
   ]
  }
 ],
 "metadata": {
  "celltoolbar": "Create Assignment",
  "kernelspec": {
   "display_name": "Python 3 (ipykernel)",
   "language": "python",
   "name": "python3"
  },
  "language_info": {
   "codemirror_mode": {
    "name": "ipython",
    "version": 3
   },
   "file_extension": ".py",
   "mimetype": "text/x-python",
   "name": "python",
   "nbconvert_exporter": "python",
   "pygments_lexer": "ipython3",
   "version": "3.12.9"
  }
 },
 "nbformat": 4,
 "nbformat_minor": 5
}
